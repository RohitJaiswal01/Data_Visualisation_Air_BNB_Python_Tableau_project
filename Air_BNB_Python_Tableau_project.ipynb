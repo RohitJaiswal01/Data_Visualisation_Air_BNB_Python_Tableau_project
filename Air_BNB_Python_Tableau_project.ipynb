{
  "nbformat": 4,
  "nbformat_minor": 0,
  "metadata": {
    "colab": {
      "provenance": [],
      "include_colab_link": true
    },
    "kernelspec": {
      "name": "python3",
      "display_name": "Python 3"
    },
    "language_info": {
      "name": "python"
    }
  },
  "cells": [
    {
      "cell_type": "markdown",
      "metadata": {
        "id": "view-in-github",
        "colab_type": "text"
      },
      "source": [
        "<a href=\"https://colab.research.google.com/github/RohitJaiswal01/Data_Visualisation_Air_BNB_Python_Tableau_project/blob/main/Air_BNB_Python_Tableau_project.ipynb\" target=\"_parent\"><img src=\"https://colab.research.google.com/assets/colab-badge.svg\" alt=\"Open In Colab\"/></a>"
      ]
    },
    {
      "cell_type": "markdown",
      "source": [
        "# **Project Name**    - Air_BNB_Python_Tableau Data Visualization Project\n",
        "\n"
      ],
      "metadata": {
        "id": "vncDsAP0Gaoa"
      }
    },
    {
      "cell_type": "markdown",
      "source": [
        "##### **Project Type**    - EDA with Python, Tableau Prep and Tableau Public\n",
        "##### **Contribution**    - Individual\n",
        "**Name** - **Rohit Jaiswal**"
      ],
      "metadata": {
        "id": "beRrZCGUAJYm"
      }
    },
    {
      "cell_type": "markdown",
      "source": [
        "# **Project Summary -**"
      ],
      "metadata": {
        "id": "FJNUwmbgGyua"
      }
    },
    {
      "cell_type": "markdown",
      "source": [
        "For this EDA project, we have chosen the \"Airbnb Listings Data\" dataset from 2 major cities: Chicago and New Orleans. This dataset provides a comprehensive snapshot of various attributes related to Airbnb listings, such as property type, neighbourhood, pricing, availability, and more. The dataset is ideal for conducting an in-depth exploration of the local Airbnb market and deriving actionable insights.\n",
        "\n",
        "How we have proceed with the dashboard:\n",
        "\n",
        "**Data Cleaning**\n",
        "\n",
        "Begin by addressing the disorder and inconsistency within the dataset. Utilise Google Collab Notebook and Tableau Prep to systematically cleanse the data, rectifying discrepancies, eliminating duplicates, and standardising formats.\n",
        "\n",
        "\n",
        "**Data Transformation**\n",
        "\n",
        "Generate supplementary columns by utilising pre-existing categorical data. These columns will be derived from extensive descriptive text, which, in its original form, proved arduous to comprehend and unsuitable for visualization purposes. The extra columns that we created gave a much clear sense of how to approach and make an effective visualization.\n",
        "\n",
        "**Tableau**\n",
        "\n",
        "Employ Tableau Prep to leverage its distinctive \"Group and Replace\" feature. Under the column denoted as Neighbourhood there are instances where identical entities are variably represented due to disparities in letter casing, spelling variations, or phonetic similarity. The \"Group and Replace\" algorithm inherent to Tableau Prep proved instrumental in mitigating this issue."
      ],
      "metadata": {
        "id": "F6v_1wHtG2nS"
      }
    },
    {
      "cell_type": "markdown",
      "source": [
        "# **GitHub Link -**"
      ],
      "metadata": {
        "id": "w6K7xa23Elo4"
      }
    },
    {
      "cell_type": "markdown",
      "source": [
        "https://github.com/RohitJaiswal01/Data_Visualisation_Air_BNB_Python_Tableau_project"
      ],
      "metadata": {
        "id": "h1o69JH3Eqqn"
      }
    },
    {
      "cell_type": "markdown",
      "source": [
        "# **Problem Statement**\n"
      ],
      "metadata": {
        "id": "yQaldy8SH6Dl"
      }
    },
    {
      "cell_type": "markdown",
      "source": [
        "In the context of Airbnb operations, how can the utilisation of Python, Tableau Prep, Tableau facilitate a comprehensive comparative examination between Chicago and New Orleans, two diverse urban environments?\n",
        "\n",
        "This inquiry seeks to leverage Tableau's visual analytics capabilities to uncover and illustrate the shared attributes, disparities, and distinctive patterns inherent to Airbnb's presence in these cities, thus elevating the depth and insightfulness of the study."
      ],
      "metadata": {
        "id": "DpeJGUA3kjGy"
      }
    },
    {
      "cell_type": "markdown",
      "source": [
        "# ***Let's Begin !***"
      ],
      "metadata": {
        "id": "O_i_v8NEhb9l"
      }
    },
    {
      "cell_type": "markdown",
      "source": [
        "## ***1. Know Your Data***"
      ],
      "metadata": {
        "id": "HhfV-JJviCcP"
      }
    },
    {
      "cell_type": "markdown",
      "source": [
        "### Import Libraries"
      ],
      "metadata": {
        "id": "Y3lxredqlCYt"
      }
    },
    {
      "cell_type": "code",
      "source": [
        "# Import Libraries\n",
        "# Import Libraries\n",
        "import numpy as np\n",
        "import pandas as pd\n",
        "import seaborn as sns\n",
        "import matplotlib.pyplot as plt\n"
      ],
      "metadata": {
        "id": "M8Vqi-pPk-HR"
      },
      "execution_count": null,
      "outputs": []
    },
    {
      "cell_type": "markdown",
      "source": [
        "### Dataset Loading"
      ],
      "metadata": {
        "id": "3RnN4peoiCZX"
      }
    },
    {
      "cell_type": "code",
      "source": [
        "# Load Dataset\n",
        "# Loading the repository files from the github to collab\n",
        "!git clone https://github.com/RohitJaiswal01/Data_Visualisation_Air_BNB_Python_Tableau_project.git\n",
        "\n",
        "# Giving a path to the files\n",
        "Chicago_listings_path = \"/content/Data_Visualisation_Air_BNB_Python_Tableau_project/Chicago_listings.csv\"\n",
        "New_Orleans_listings_path = \"/content/Data_Visualisation_Air_BNB_Python_Tableau_project/New_Orleans_listings.csv\""
      ],
      "metadata": {
        "colab": {
          "base_uri": "https://localhost:8080/"
        },
        "id": "ndZpXjOtLg0K",
        "outputId": "e553a700-35c8-4e7d-fc69-f959bc80930c"
      },
      "execution_count": null,
      "outputs": [
        {
          "output_type": "stream",
          "name": "stdout",
          "text": [
            "Cloning into 'Data_Visualisation_Air_BNB_Python_Tableau_project'...\n",
            "remote: Enumerating objects: 21, done.\u001b[K\n",
            "remote: Counting objects: 100% (21/21), done.\u001b[K\n",
            "remote: Compressing objects: 100% (20/20), done.\u001b[K\n",
            "remote: Total 21 (delta 5), reused 0 (delta 0), pack-reused 0\u001b[K\n",
            "Receiving objects: 100% (21/21), 1.67 MiB | 7.83 MiB/s, done.\n",
            "Resolving deltas: 100% (5/5), done.\n"
          ]
        }
      ]
    },
    {
      "cell_type": "code",
      "source": [
        "# Load Dataset from the loaded repository files\n",
        "Chicago_listings = pd.read_csv(Chicago_listings_path)\n",
        "New_Orleans_listings = pd.read_csv(New_Orleans_listings_path)"
      ],
      "metadata": {
        "id": "4CkvbW_SlZ_R"
      },
      "execution_count": null,
      "outputs": []
    },
    {
      "cell_type": "markdown",
      "source": [
        "### Dataset First View"
      ],
      "metadata": {
        "id": "x71ZqKXriCWQ"
      }
    },
    {
      "cell_type": "code",
      "source": [
        "# New Orleans Dataset First Look\n",
        "New_Orleans_listings.head()"
      ],
      "metadata": {
        "colab": {
          "base_uri": "https://localhost:8080/",
          "height": 677
        },
        "id": "HA6CR-zosleK",
        "outputId": "9e4b6092-76d9-406e-b44c-52faff1b9f97"
      },
      "execution_count": null,
      "outputs": [
        {
          "output_type": "execute_result",
          "data": {
            "text/plain": [
              "      id                                               name  host_id  \\\n",
              "0  19091  Rental unit in New Orleans · ★4.89 · 1 bedroom...    72880   \n",
              "1  71624  Rental unit in New Orleans · ★4.94 · 1 bedroom...   367223   \n",
              "2  74498  Rental unit in New Orleans · ★4.90 · 1 bedroom...   391462   \n",
              "3  79536  Rental unit in New Orleans · ★4.89 · 1 bedroom...   428362   \n",
              "4  79609  Guest suite in New Orleans · ★4.96 · 2 bedroom...   428909   \n",
              "\n",
              "  host_name  neighbourhood_group neighbourhood  latitude  longitude  \\\n",
              "0      John                  NaN      Leonidas  29.96100  -90.11950   \n",
              "1     Susan                  NaN       Bywater  29.96153  -90.04364   \n",
              "2   Georgia                  NaN      St. Roch  29.96986  -90.05172   \n",
              "3    Miriam                  NaN  Seventh Ward  29.97803  -90.07450   \n",
              "4   Stephen                  NaN    St. Claude  29.96448  -90.03667   \n",
              "\n",
              "         room_type  price  minimum_nights  number_of_reviews last_review  \\\n",
              "0  Entire home/apt     60               1                503  2023-11-06   \n",
              "1  Entire home/apt    150               3                293  2023-10-23   \n",
              "2  Entire home/apt     91               3                603  2023-11-19   \n",
              "3  Entire home/apt     31              14                702  2023-11-26   \n",
              "4     Private room    119               3                487  2023-11-28   \n",
              "\n",
              "   reviews_per_month  calculated_host_listings_count  availability_365  \\\n",
              "0               3.03                               1                 0   \n",
              "1               1.88                               1               336   \n",
              "2               3.89                               3               237   \n",
              "3               4.58                               1                 0   \n",
              "4               3.14                               1               296   \n",
              "\n",
              "   number_of_reviews_ltm                                            license  \n",
              "0                      7                       22-RSTR-14107, 22-OSTR-14105  \n",
              "1                     17                       21-RSTR-18609, 22-OSTR-20720  \n",
              "2                     40  Exempt: This listing is a licensed hotel, mote...  \n",
              "3                    102                       21-RSTR-18550, 21-OSTR-18392  \n",
              "4                     39                       23-ISTR-02823, 23-OSTR-02823  "
            ],
            "text/html": [
              "\n",
              "  <div id=\"df-b828443a-164e-48f7-9ae3-34e5bfa98a9f\" class=\"colab-df-container\">\n",
              "    <div>\n",
              "<style scoped>\n",
              "    .dataframe tbody tr th:only-of-type {\n",
              "        vertical-align: middle;\n",
              "    }\n",
              "\n",
              "    .dataframe tbody tr th {\n",
              "        vertical-align: top;\n",
              "    }\n",
              "\n",
              "    .dataframe thead th {\n",
              "        text-align: right;\n",
              "    }\n",
              "</style>\n",
              "<table border=\"1\" class=\"dataframe\">\n",
              "  <thead>\n",
              "    <tr style=\"text-align: right;\">\n",
              "      <th></th>\n",
              "      <th>id</th>\n",
              "      <th>name</th>\n",
              "      <th>host_id</th>\n",
              "      <th>host_name</th>\n",
              "      <th>neighbourhood_group</th>\n",
              "      <th>neighbourhood</th>\n",
              "      <th>latitude</th>\n",
              "      <th>longitude</th>\n",
              "      <th>room_type</th>\n",
              "      <th>price</th>\n",
              "      <th>minimum_nights</th>\n",
              "      <th>number_of_reviews</th>\n",
              "      <th>last_review</th>\n",
              "      <th>reviews_per_month</th>\n",
              "      <th>calculated_host_listings_count</th>\n",
              "      <th>availability_365</th>\n",
              "      <th>number_of_reviews_ltm</th>\n",
              "      <th>license</th>\n",
              "    </tr>\n",
              "  </thead>\n",
              "  <tbody>\n",
              "    <tr>\n",
              "      <th>0</th>\n",
              "      <td>19091</td>\n",
              "      <td>Rental unit in New Orleans · ★4.89 · 1 bedroom...</td>\n",
              "      <td>72880</td>\n",
              "      <td>John</td>\n",
              "      <td>NaN</td>\n",
              "      <td>Leonidas</td>\n",
              "      <td>29.96100</td>\n",
              "      <td>-90.11950</td>\n",
              "      <td>Entire home/apt</td>\n",
              "      <td>60</td>\n",
              "      <td>1</td>\n",
              "      <td>503</td>\n",
              "      <td>2023-11-06</td>\n",
              "      <td>3.03</td>\n",
              "      <td>1</td>\n",
              "      <td>0</td>\n",
              "      <td>7</td>\n",
              "      <td>22-RSTR-14107, 22-OSTR-14105</td>\n",
              "    </tr>\n",
              "    <tr>\n",
              "      <th>1</th>\n",
              "      <td>71624</td>\n",
              "      <td>Rental unit in New Orleans · ★4.94 · 1 bedroom...</td>\n",
              "      <td>367223</td>\n",
              "      <td>Susan</td>\n",
              "      <td>NaN</td>\n",
              "      <td>Bywater</td>\n",
              "      <td>29.96153</td>\n",
              "      <td>-90.04364</td>\n",
              "      <td>Entire home/apt</td>\n",
              "      <td>150</td>\n",
              "      <td>3</td>\n",
              "      <td>293</td>\n",
              "      <td>2023-10-23</td>\n",
              "      <td>1.88</td>\n",
              "      <td>1</td>\n",
              "      <td>336</td>\n",
              "      <td>17</td>\n",
              "      <td>21-RSTR-18609, 22-OSTR-20720</td>\n",
              "    </tr>\n",
              "    <tr>\n",
              "      <th>2</th>\n",
              "      <td>74498</td>\n",
              "      <td>Rental unit in New Orleans · ★4.90 · 1 bedroom...</td>\n",
              "      <td>391462</td>\n",
              "      <td>Georgia</td>\n",
              "      <td>NaN</td>\n",
              "      <td>St. Roch</td>\n",
              "      <td>29.96986</td>\n",
              "      <td>-90.05172</td>\n",
              "      <td>Entire home/apt</td>\n",
              "      <td>91</td>\n",
              "      <td>3</td>\n",
              "      <td>603</td>\n",
              "      <td>2023-11-19</td>\n",
              "      <td>3.89</td>\n",
              "      <td>3</td>\n",
              "      <td>237</td>\n",
              "      <td>40</td>\n",
              "      <td>Exempt: This listing is a licensed hotel, mote...</td>\n",
              "    </tr>\n",
              "    <tr>\n",
              "      <th>3</th>\n",
              "      <td>79536</td>\n",
              "      <td>Rental unit in New Orleans · ★4.89 · 1 bedroom...</td>\n",
              "      <td>428362</td>\n",
              "      <td>Miriam</td>\n",
              "      <td>NaN</td>\n",
              "      <td>Seventh Ward</td>\n",
              "      <td>29.97803</td>\n",
              "      <td>-90.07450</td>\n",
              "      <td>Entire home/apt</td>\n",
              "      <td>31</td>\n",
              "      <td>14</td>\n",
              "      <td>702</td>\n",
              "      <td>2023-11-26</td>\n",
              "      <td>4.58</td>\n",
              "      <td>1</td>\n",
              "      <td>0</td>\n",
              "      <td>102</td>\n",
              "      <td>21-RSTR-18550, 21-OSTR-18392</td>\n",
              "    </tr>\n",
              "    <tr>\n",
              "      <th>4</th>\n",
              "      <td>79609</td>\n",
              "      <td>Guest suite in New Orleans · ★4.96 · 2 bedroom...</td>\n",
              "      <td>428909</td>\n",
              "      <td>Stephen</td>\n",
              "      <td>NaN</td>\n",
              "      <td>St. Claude</td>\n",
              "      <td>29.96448</td>\n",
              "      <td>-90.03667</td>\n",
              "      <td>Private room</td>\n",
              "      <td>119</td>\n",
              "      <td>3</td>\n",
              "      <td>487</td>\n",
              "      <td>2023-11-28</td>\n",
              "      <td>3.14</td>\n",
              "      <td>1</td>\n",
              "      <td>296</td>\n",
              "      <td>39</td>\n",
              "      <td>23-ISTR-02823, 23-OSTR-02823</td>\n",
              "    </tr>\n",
              "  </tbody>\n",
              "</table>\n",
              "</div>\n",
              "    <div class=\"colab-df-buttons\">\n",
              "\n",
              "  <div class=\"colab-df-container\">\n",
              "    <button class=\"colab-df-convert\" onclick=\"convertToInteractive('df-b828443a-164e-48f7-9ae3-34e5bfa98a9f')\"\n",
              "            title=\"Convert this dataframe to an interactive table.\"\n",
              "            style=\"display:none;\">\n",
              "\n",
              "  <svg xmlns=\"http://www.w3.org/2000/svg\" height=\"24px\" viewBox=\"0 -960 960 960\">\n",
              "    <path d=\"M120-120v-720h720v720H120Zm60-500h600v-160H180v160Zm220 220h160v-160H400v160Zm0 220h160v-160H400v160ZM180-400h160v-160H180v160Zm440 0h160v-160H620v160ZM180-180h160v-160H180v160Zm440 0h160v-160H620v160Z\"/>\n",
              "  </svg>\n",
              "    </button>\n",
              "\n",
              "  <style>\n",
              "    .colab-df-container {\n",
              "      display:flex;\n",
              "      gap: 12px;\n",
              "    }\n",
              "\n",
              "    .colab-df-convert {\n",
              "      background-color: #E8F0FE;\n",
              "      border: none;\n",
              "      border-radius: 50%;\n",
              "      cursor: pointer;\n",
              "      display: none;\n",
              "      fill: #1967D2;\n",
              "      height: 32px;\n",
              "      padding: 0 0 0 0;\n",
              "      width: 32px;\n",
              "    }\n",
              "\n",
              "    .colab-df-convert:hover {\n",
              "      background-color: #E2EBFA;\n",
              "      box-shadow: 0px 1px 2px rgba(60, 64, 67, 0.3), 0px 1px 3px 1px rgba(60, 64, 67, 0.15);\n",
              "      fill: #174EA6;\n",
              "    }\n",
              "\n",
              "    .colab-df-buttons div {\n",
              "      margin-bottom: 4px;\n",
              "    }\n",
              "\n",
              "    [theme=dark] .colab-df-convert {\n",
              "      background-color: #3B4455;\n",
              "      fill: #D2E3FC;\n",
              "    }\n",
              "\n",
              "    [theme=dark] .colab-df-convert:hover {\n",
              "      background-color: #434B5C;\n",
              "      box-shadow: 0px 1px 3px 1px rgba(0, 0, 0, 0.15);\n",
              "      filter: drop-shadow(0px 1px 2px rgba(0, 0, 0, 0.3));\n",
              "      fill: #FFFFFF;\n",
              "    }\n",
              "  </style>\n",
              "\n",
              "    <script>\n",
              "      const buttonEl =\n",
              "        document.querySelector('#df-b828443a-164e-48f7-9ae3-34e5bfa98a9f button.colab-df-convert');\n",
              "      buttonEl.style.display =\n",
              "        google.colab.kernel.accessAllowed ? 'block' : 'none';\n",
              "\n",
              "      async function convertToInteractive(key) {\n",
              "        const element = document.querySelector('#df-b828443a-164e-48f7-9ae3-34e5bfa98a9f');\n",
              "        const dataTable =\n",
              "          await google.colab.kernel.invokeFunction('convertToInteractive',\n",
              "                                                    [key], {});\n",
              "        if (!dataTable) return;\n",
              "\n",
              "        const docLinkHtml = 'Like what you see? Visit the ' +\n",
              "          '<a target=\"_blank\" href=https://colab.research.google.com/notebooks/data_table.ipynb>data table notebook</a>'\n",
              "          + ' to learn more about interactive tables.';\n",
              "        element.innerHTML = '';\n",
              "        dataTable['output_type'] = 'display_data';\n",
              "        await google.colab.output.renderOutput(dataTable, element);\n",
              "        const docLink = document.createElement('div');\n",
              "        docLink.innerHTML = docLinkHtml;\n",
              "        element.appendChild(docLink);\n",
              "      }\n",
              "    </script>\n",
              "  </div>\n",
              "\n",
              "\n",
              "<div id=\"df-c596b55f-c5e7-41e1-bfa3-9b281a67e475\">\n",
              "  <button class=\"colab-df-quickchart\" onclick=\"quickchart('df-c596b55f-c5e7-41e1-bfa3-9b281a67e475')\"\n",
              "            title=\"Suggest charts\"\n",
              "            style=\"display:none;\">\n",
              "\n",
              "<svg xmlns=\"http://www.w3.org/2000/svg\" height=\"24px\"viewBox=\"0 0 24 24\"\n",
              "     width=\"24px\">\n",
              "    <g>\n",
              "        <path d=\"M19 3H5c-1.1 0-2 .9-2 2v14c0 1.1.9 2 2 2h14c1.1 0 2-.9 2-2V5c0-1.1-.9-2-2-2zM9 17H7v-7h2v7zm4 0h-2V7h2v10zm4 0h-2v-4h2v4z\"/>\n",
              "    </g>\n",
              "</svg>\n",
              "  </button>\n",
              "\n",
              "<style>\n",
              "  .colab-df-quickchart {\n",
              "      --bg-color: #E8F0FE;\n",
              "      --fill-color: #1967D2;\n",
              "      --hover-bg-color: #E2EBFA;\n",
              "      --hover-fill-color: #174EA6;\n",
              "      --disabled-fill-color: #AAA;\n",
              "      --disabled-bg-color: #DDD;\n",
              "  }\n",
              "\n",
              "  [theme=dark] .colab-df-quickchart {\n",
              "      --bg-color: #3B4455;\n",
              "      --fill-color: #D2E3FC;\n",
              "      --hover-bg-color: #434B5C;\n",
              "      --hover-fill-color: #FFFFFF;\n",
              "      --disabled-bg-color: #3B4455;\n",
              "      --disabled-fill-color: #666;\n",
              "  }\n",
              "\n",
              "  .colab-df-quickchart {\n",
              "    background-color: var(--bg-color);\n",
              "    border: none;\n",
              "    border-radius: 50%;\n",
              "    cursor: pointer;\n",
              "    display: none;\n",
              "    fill: var(--fill-color);\n",
              "    height: 32px;\n",
              "    padding: 0;\n",
              "    width: 32px;\n",
              "  }\n",
              "\n",
              "  .colab-df-quickchart:hover {\n",
              "    background-color: var(--hover-bg-color);\n",
              "    box-shadow: 0 1px 2px rgba(60, 64, 67, 0.3), 0 1px 3px 1px rgba(60, 64, 67, 0.15);\n",
              "    fill: var(--button-hover-fill-color);\n",
              "  }\n",
              "\n",
              "  .colab-df-quickchart-complete:disabled,\n",
              "  .colab-df-quickchart-complete:disabled:hover {\n",
              "    background-color: var(--disabled-bg-color);\n",
              "    fill: var(--disabled-fill-color);\n",
              "    box-shadow: none;\n",
              "  }\n",
              "\n",
              "  .colab-df-spinner {\n",
              "    border: 2px solid var(--fill-color);\n",
              "    border-color: transparent;\n",
              "    border-bottom-color: var(--fill-color);\n",
              "    animation:\n",
              "      spin 1s steps(1) infinite;\n",
              "  }\n",
              "\n",
              "  @keyframes spin {\n",
              "    0% {\n",
              "      border-color: transparent;\n",
              "      border-bottom-color: var(--fill-color);\n",
              "      border-left-color: var(--fill-color);\n",
              "    }\n",
              "    20% {\n",
              "      border-color: transparent;\n",
              "      border-left-color: var(--fill-color);\n",
              "      border-top-color: var(--fill-color);\n",
              "    }\n",
              "    30% {\n",
              "      border-color: transparent;\n",
              "      border-left-color: var(--fill-color);\n",
              "      border-top-color: var(--fill-color);\n",
              "      border-right-color: var(--fill-color);\n",
              "    }\n",
              "    40% {\n",
              "      border-color: transparent;\n",
              "      border-right-color: var(--fill-color);\n",
              "      border-top-color: var(--fill-color);\n",
              "    }\n",
              "    60% {\n",
              "      border-color: transparent;\n",
              "      border-right-color: var(--fill-color);\n",
              "    }\n",
              "    80% {\n",
              "      border-color: transparent;\n",
              "      border-right-color: var(--fill-color);\n",
              "      border-bottom-color: var(--fill-color);\n",
              "    }\n",
              "    90% {\n",
              "      border-color: transparent;\n",
              "      border-bottom-color: var(--fill-color);\n",
              "    }\n",
              "  }\n",
              "</style>\n",
              "\n",
              "  <script>\n",
              "    async function quickchart(key) {\n",
              "      const quickchartButtonEl =\n",
              "        document.querySelector('#' + key + ' button');\n",
              "      quickchartButtonEl.disabled = true;  // To prevent multiple clicks.\n",
              "      quickchartButtonEl.classList.add('colab-df-spinner');\n",
              "      try {\n",
              "        const charts = await google.colab.kernel.invokeFunction(\n",
              "            'suggestCharts', [key], {});\n",
              "      } catch (error) {\n",
              "        console.error('Error during call to suggestCharts:', error);\n",
              "      }\n",
              "      quickchartButtonEl.classList.remove('colab-df-spinner');\n",
              "      quickchartButtonEl.classList.add('colab-df-quickchart-complete');\n",
              "    }\n",
              "    (() => {\n",
              "      let quickchartButtonEl =\n",
              "        document.querySelector('#df-c596b55f-c5e7-41e1-bfa3-9b281a67e475 button');\n",
              "      quickchartButtonEl.style.display =\n",
              "        google.colab.kernel.accessAllowed ? 'block' : 'none';\n",
              "    })();\n",
              "  </script>\n",
              "</div>\n",
              "\n",
              "    </div>\n",
              "  </div>\n"
            ],
            "application/vnd.google.colaboratory.intrinsic+json": {
              "type": "dataframe",
              "variable_name": "New_Orleans_listings",
              "summary": "{\n  \"name\": \"New_Orleans_listings\",\n  \"rows\": 7075,\n  \"fields\": [\n    {\n      \"column\": \"id\",\n      \"properties\": {\n        \"dtype\": \"number\",\n        \"std\": 403535266714105216,\n        \"min\": 19091,\n        \"max\": 1037102444868484575,\n        \"num_unique_values\": 7075,\n        \"samples\": [\n          726293510237460896,\n          42743537,\n          747108776867675540\n        ],\n        \"semantic_type\": \"\",\n        \"description\": \"\"\n      }\n    },\n    {\n      \"column\": \"name\",\n      \"properties\": {\n        \"dtype\": \"string\",\n        \"num_unique_values\": 3698,\n        \"samples\": [\n          \"Home in New Orleans \\u00b7 4 bedrooms \\u00b7 3 beds \\u00b7 2 baths\",\n          \"Home in New Orleans \\u00b7 \\u26054.67 \\u00b7 4 bedrooms \\u00b7 5 beds \\u00b7 3 baths\",\n          \"Home in New Orleans \\u00b7 \\u26054.88 \\u00b7 1 bedroom \\u00b7 1 bed \\u00b7 1 shared bath\"\n        ],\n        \"semantic_type\": \"\",\n        \"description\": \"\"\n      }\n    },\n    {\n      \"column\": \"host_id\",\n      \"properties\": {\n        \"dtype\": \"number\",\n        \"std\": 172836324,\n        \"min\": 971,\n        \"max\": 548874676,\n        \"num_unique_values\": 3464,\n        \"samples\": [\n          57282739,\n          47652276,\n          274300500\n        ],\n        \"semantic_type\": \"\",\n        \"description\": \"\"\n      }\n    },\n    {\n      \"column\": \"host_name\",\n      \"properties\": {\n        \"dtype\": \"category\",\n        \"num_unique_values\": 1810,\n        \"samples\": [\n          \"Kennor\",\n          \"Scott\",\n          \"B.\"\n        ],\n        \"semantic_type\": \"\",\n        \"description\": \"\"\n      }\n    },\n    {\n      \"column\": \"neighbourhood_group\",\n      \"properties\": {\n        \"dtype\": \"number\",\n        \"std\": null,\n        \"min\": null,\n        \"max\": null,\n        \"num_unique_values\": 0,\n        \"samples\": [],\n        \"semantic_type\": \"\",\n        \"description\": \"\"\n      }\n    },\n    {\n      \"column\": \"neighbourhood\",\n      \"properties\": {\n        \"dtype\": \"category\",\n        \"num_unique_values\": 68,\n        \"samples\": [],\n        \"semantic_type\": \"\",\n        \"description\": \"\"\n      }\n    },\n    {\n      \"column\": \"latitude\",\n      \"properties\": {\n        \"dtype\": \"number\",\n        \"std\": 0.024082999227787553,\n        \"min\": 29.89768,\n        \"max\": 30.16104,\n        \"num_unique_values\": 5234,\n        \"samples\": [],\n        \"semantic_type\": \"\",\n        \"description\": \"\"\n      }\n    },\n    {\n      \"column\": \"longitude\",\n      \"properties\": {\n        \"dtype\": \"number\",\n        \"std\": 0.030881583080092482,\n        \"min\": -90.13748,\n        \"max\": -89.73709,\n        \"num_unique_values\": 5418,\n        \"samples\": [],\n        \"semantic_type\": \"\",\n        \"description\": \"\"\n      }\n    },\n    {\n      \"column\": \"room_type\",\n      \"properties\": {\n        \"dtype\": \"category\",\n        \"num_unique_values\": 4,\n        \"samples\": [],\n        \"semantic_type\": \"\",\n        \"description\": \"\"\n      }\n    },\n    {\n      \"column\": \"price\",\n      \"properties\": {\n        \"dtype\": \"number\",\n        \"std\": 281,\n        \"min\": 11,\n        \"max\": 10000,\n        \"num_unique_values\": 691,\n        \"samples\": [],\n        \"semantic_type\": \"\",\n        \"description\": \"\"\n      }\n    },\n    {\n      \"column\": \"minimum_nights\",\n      \"properties\": {\n        \"dtype\": \"number\",\n        \"std\": 19,\n        \"min\": 1,\n        \"max\": 365,\n        \"num_unique_values\": 33,\n        \"samples\": [],\n        \"semantic_type\": \"\",\n        \"description\": \"\"\n      }\n    },\n    {\n      \"column\": \"number_of_reviews\",\n      \"properties\": {\n        \"dtype\": \"number\",\n        \"std\": 94,\n        \"min\": 0,\n        \"max\": 1605,\n        \"num_unique_values\": 438,\n        \"samples\": [],\n        \"semantic_type\": \"\",\n        \"description\": \"\"\n      }\n    },\n    {\n      \"column\": \"last_review\",\n      \"properties\": {\n        \"dtype\": \"object\",\n        \"num_unique_values\": 844,\n        \"samples\": [],\n        \"semantic_type\": \"\",\n        \"description\": \"\"\n      }\n    },\n    {\n      \"column\": \"reviews_per_month\",\n      \"properties\": {\n        \"dtype\": \"number\",\n        \"std\": 1.693589552189437,\n        \"min\": 0.01,\n        \"max\": 38.85,\n        \"num_unique_values\": 634,\n        \"samples\": [],\n        \"semantic_type\": \"\",\n        \"description\": \"\"\n      }\n    },\n    {\n      \"column\": \"calculated_host_listings_count\",\n      \"properties\": {\n        \"dtype\": \"number\",\n        \"std\": 23,\n        \"min\": 1,\n        \"max\": 111,\n        \"num_unique_values\": 43,\n        \"samples\": [],\n        \"semantic_type\": \"\",\n        \"description\": \"\"\n      }\n    },\n    {\n      \"column\": \"availability_365\",\n      \"properties\": {\n        \"dtype\": \"number\",\n        \"std\": 130,\n        \"min\": 0,\n        \"max\": 365,\n        \"num_unique_values\": 366,\n        \"samples\": [],\n        \"semantic_type\": \"\",\n        \"description\": \"\"\n      }\n    },\n    {\n      \"column\": \"number_of_reviews_ltm\",\n      \"properties\": {\n        \"dtype\": \"number\",\n        \"std\": 21,\n        \"min\": 0,\n        \"max\": 522,\n        \"num_unique_values\": 116,\n        \"samples\": [],\n        \"semantic_type\": \"\",\n        \"description\": \"\"\n      }\n    },\n    {\n      \"column\": \"license\",\n      \"properties\": {\n        \"dtype\": \"string\",\n        \"num_unique_values\": 4052,\n        \"samples\": [],\n        \"semantic_type\": \"\",\n        \"description\": \"\"\n      }\n    }\n  ]\n}"
            }
          },
          "metadata": {},
          "execution_count": 4
        }
      ]
    },
    {
      "cell_type": "code",
      "source": [
        "# Chicago Dataset First Look\n",
        "Chicago_listings.head()"
      ],
      "metadata": {
        "id": "LWNFOSvLl09H",
        "colab": {
          "base_uri": "https://localhost:8080/",
          "height": 642
        },
        "outputId": "e2385943-848b-4586-8c8b-d8ac2655dcc1"
      },
      "execution_count": null,
      "outputs": [
        {
          "output_type": "execute_result",
          "data": {
            "text/plain": [
              "        id                                               name  host_id  \\\n",
              "0     2384  Condo in Chicago · ★4.99 · 1 bedroom · 1 bed ·...     2613   \n",
              "1     7126  Rental unit in Chicago · ★4.70 · 1 bedroom · 1...    17928   \n",
              "2    10945  Rental unit in Chicago · ★4.63 · 2 bedrooms · ...    33004   \n",
              "3  1461451  Rental unit in Chicago · ★4.60 · 1 bedroom · 1...  2907254   \n",
              "4  1502674  Rental unit in Chicago · ★4.79 · 2 bedrooms · ...    33004   \n",
              "\n",
              "     host_name  neighbourhood_group neighbourhood  latitude  longitude  \\\n",
              "0      Rebecca                  NaN     Hyde Park  41.78790  -87.58780   \n",
              "1        Sarah                  NaN     West Town  41.90166  -87.68021   \n",
              "2  At Home Inn                  NaN  Lincoln Park  41.91196  -87.63981   \n",
              "3          Joe                  NaN    West Ridge  42.01653  -87.68788   \n",
              "4  At Home Inn                  NaN  Lincoln Park  41.91175  -87.63834   \n",
              "\n",
              "         room_type  price  minimum_nights  number_of_reviews last_review  \\\n",
              "0     Private room   70.0               3                229  2023-10-31   \n",
              "1  Entire home/apt   90.0               2                512  2023-10-09   \n",
              "2  Entire home/apt  106.0               4                 78  2023-11-06   \n",
              "3      Shared room   28.0               1                188  2023-11-21   \n",
              "4  Entire home/apt  146.0               4                110  2023-12-10   \n",
              "\n",
              "   reviews_per_month  calculated_host_listings_count  availability_365  \\\n",
              "0               2.10                               1               362   \n",
              "1               2.91                               1               335   \n",
              "2               0.66                               5               225   \n",
              "3               1.49                              15               180   \n",
              "4               0.88                               5                 0   \n",
              "\n",
              "   number_of_reviews_ltm       license  \n",
              "0                     19  R17000015609  \n",
              "1                     36  R21000075737  \n",
              "2                     19       2209984  \n",
              "3                     10  R21000075752  \n",
              "4                     27       2209985  "
            ],
            "text/html": [
              "\n",
              "  <div id=\"df-912d5578-7f49-4699-ac5e-4df8cfd1d4b6\" class=\"colab-df-container\">\n",
              "    <div>\n",
              "<style scoped>\n",
              "    .dataframe tbody tr th:only-of-type {\n",
              "        vertical-align: middle;\n",
              "    }\n",
              "\n",
              "    .dataframe tbody tr th {\n",
              "        vertical-align: top;\n",
              "    }\n",
              "\n",
              "    .dataframe thead th {\n",
              "        text-align: right;\n",
              "    }\n",
              "</style>\n",
              "<table border=\"1\" class=\"dataframe\">\n",
              "  <thead>\n",
              "    <tr style=\"text-align: right;\">\n",
              "      <th></th>\n",
              "      <th>id</th>\n",
              "      <th>name</th>\n",
              "      <th>host_id</th>\n",
              "      <th>host_name</th>\n",
              "      <th>neighbourhood_group</th>\n",
              "      <th>neighbourhood</th>\n",
              "      <th>latitude</th>\n",
              "      <th>longitude</th>\n",
              "      <th>room_type</th>\n",
              "      <th>price</th>\n",
              "      <th>minimum_nights</th>\n",
              "      <th>number_of_reviews</th>\n",
              "      <th>last_review</th>\n",
              "      <th>reviews_per_month</th>\n",
              "      <th>calculated_host_listings_count</th>\n",
              "      <th>availability_365</th>\n",
              "      <th>number_of_reviews_ltm</th>\n",
              "      <th>license</th>\n",
              "    </tr>\n",
              "  </thead>\n",
              "  <tbody>\n",
              "    <tr>\n",
              "      <th>0</th>\n",
              "      <td>2384</td>\n",
              "      <td>Condo in Chicago · ★4.99 · 1 bedroom · 1 bed ·...</td>\n",
              "      <td>2613</td>\n",
              "      <td>Rebecca</td>\n",
              "      <td>NaN</td>\n",
              "      <td>Hyde Park</td>\n",
              "      <td>41.78790</td>\n",
              "      <td>-87.58780</td>\n",
              "      <td>Private room</td>\n",
              "      <td>70.0</td>\n",
              "      <td>3</td>\n",
              "      <td>229</td>\n",
              "      <td>2023-10-31</td>\n",
              "      <td>2.10</td>\n",
              "      <td>1</td>\n",
              "      <td>362</td>\n",
              "      <td>19</td>\n",
              "      <td>R17000015609</td>\n",
              "    </tr>\n",
              "    <tr>\n",
              "      <th>1</th>\n",
              "      <td>7126</td>\n",
              "      <td>Rental unit in Chicago · ★4.70 · 1 bedroom · 1...</td>\n",
              "      <td>17928</td>\n",
              "      <td>Sarah</td>\n",
              "      <td>NaN</td>\n",
              "      <td>West Town</td>\n",
              "      <td>41.90166</td>\n",
              "      <td>-87.68021</td>\n",
              "      <td>Entire home/apt</td>\n",
              "      <td>90.0</td>\n",
              "      <td>2</td>\n",
              "      <td>512</td>\n",
              "      <td>2023-10-09</td>\n",
              "      <td>2.91</td>\n",
              "      <td>1</td>\n",
              "      <td>335</td>\n",
              "      <td>36</td>\n",
              "      <td>R21000075737</td>\n",
              "    </tr>\n",
              "    <tr>\n",
              "      <th>2</th>\n",
              "      <td>10945</td>\n",
              "      <td>Rental unit in Chicago · ★4.63 · 2 bedrooms · ...</td>\n",
              "      <td>33004</td>\n",
              "      <td>At Home Inn</td>\n",
              "      <td>NaN</td>\n",
              "      <td>Lincoln Park</td>\n",
              "      <td>41.91196</td>\n",
              "      <td>-87.63981</td>\n",
              "      <td>Entire home/apt</td>\n",
              "      <td>106.0</td>\n",
              "      <td>4</td>\n",
              "      <td>78</td>\n",
              "      <td>2023-11-06</td>\n",
              "      <td>0.66</td>\n",
              "      <td>5</td>\n",
              "      <td>225</td>\n",
              "      <td>19</td>\n",
              "      <td>2209984</td>\n",
              "    </tr>\n",
              "    <tr>\n",
              "      <th>3</th>\n",
              "      <td>1461451</td>\n",
              "      <td>Rental unit in Chicago · ★4.60 · 1 bedroom · 1...</td>\n",
              "      <td>2907254</td>\n",
              "      <td>Joe</td>\n",
              "      <td>NaN</td>\n",
              "      <td>West Ridge</td>\n",
              "      <td>42.01653</td>\n",
              "      <td>-87.68788</td>\n",
              "      <td>Shared room</td>\n",
              "      <td>28.0</td>\n",
              "      <td>1</td>\n",
              "      <td>188</td>\n",
              "      <td>2023-11-21</td>\n",
              "      <td>1.49</td>\n",
              "      <td>15</td>\n",
              "      <td>180</td>\n",
              "      <td>10</td>\n",
              "      <td>R21000075752</td>\n",
              "    </tr>\n",
              "    <tr>\n",
              "      <th>4</th>\n",
              "      <td>1502674</td>\n",
              "      <td>Rental unit in Chicago · ★4.79 · 2 bedrooms · ...</td>\n",
              "      <td>33004</td>\n",
              "      <td>At Home Inn</td>\n",
              "      <td>NaN</td>\n",
              "      <td>Lincoln Park</td>\n",
              "      <td>41.91175</td>\n",
              "      <td>-87.63834</td>\n",
              "      <td>Entire home/apt</td>\n",
              "      <td>146.0</td>\n",
              "      <td>4</td>\n",
              "      <td>110</td>\n",
              "      <td>2023-12-10</td>\n",
              "      <td>0.88</td>\n",
              "      <td>5</td>\n",
              "      <td>0</td>\n",
              "      <td>27</td>\n",
              "      <td>2209985</td>\n",
              "    </tr>\n",
              "  </tbody>\n",
              "</table>\n",
              "</div>\n",
              "    <div class=\"colab-df-buttons\">\n",
              "\n",
              "  <div class=\"colab-df-container\">\n",
              "    <button class=\"colab-df-convert\" onclick=\"convertToInteractive('df-912d5578-7f49-4699-ac5e-4df8cfd1d4b6')\"\n",
              "            title=\"Convert this dataframe to an interactive table.\"\n",
              "            style=\"display:none;\">\n",
              "\n",
              "  <svg xmlns=\"http://www.w3.org/2000/svg\" height=\"24px\" viewBox=\"0 -960 960 960\">\n",
              "    <path d=\"M120-120v-720h720v720H120Zm60-500h600v-160H180v160Zm220 220h160v-160H400v160Zm0 220h160v-160H400v160ZM180-400h160v-160H180v160Zm440 0h160v-160H620v160ZM180-180h160v-160H180v160Zm440 0h160v-160H620v160Z\"/>\n",
              "  </svg>\n",
              "    </button>\n",
              "\n",
              "  <style>\n",
              "    .colab-df-container {\n",
              "      display:flex;\n",
              "      gap: 12px;\n",
              "    }\n",
              "\n",
              "    .colab-df-convert {\n",
              "      background-color: #E8F0FE;\n",
              "      border: none;\n",
              "      border-radius: 50%;\n",
              "      cursor: pointer;\n",
              "      display: none;\n",
              "      fill: #1967D2;\n",
              "      height: 32px;\n",
              "      padding: 0 0 0 0;\n",
              "      width: 32px;\n",
              "    }\n",
              "\n",
              "    .colab-df-convert:hover {\n",
              "      background-color: #E2EBFA;\n",
              "      box-shadow: 0px 1px 2px rgba(60, 64, 67, 0.3), 0px 1px 3px 1px rgba(60, 64, 67, 0.15);\n",
              "      fill: #174EA6;\n",
              "    }\n",
              "\n",
              "    .colab-df-buttons div {\n",
              "      margin-bottom: 4px;\n",
              "    }\n",
              "\n",
              "    [theme=dark] .colab-df-convert {\n",
              "      background-color: #3B4455;\n",
              "      fill: #D2E3FC;\n",
              "    }\n",
              "\n",
              "    [theme=dark] .colab-df-convert:hover {\n",
              "      background-color: #434B5C;\n",
              "      box-shadow: 0px 1px 3px 1px rgba(0, 0, 0, 0.15);\n",
              "      filter: drop-shadow(0px 1px 2px rgba(0, 0, 0, 0.3));\n",
              "      fill: #FFFFFF;\n",
              "    }\n",
              "  </style>\n",
              "\n",
              "    <script>\n",
              "      const buttonEl =\n",
              "        document.querySelector('#df-912d5578-7f49-4699-ac5e-4df8cfd1d4b6 button.colab-df-convert');\n",
              "      buttonEl.style.display =\n",
              "        google.colab.kernel.accessAllowed ? 'block' : 'none';\n",
              "\n",
              "      async function convertToInteractive(key) {\n",
              "        const element = document.querySelector('#df-912d5578-7f49-4699-ac5e-4df8cfd1d4b6');\n",
              "        const dataTable =\n",
              "          await google.colab.kernel.invokeFunction('convertToInteractive',\n",
              "                                                    [key], {});\n",
              "        if (!dataTable) return;\n",
              "\n",
              "        const docLinkHtml = 'Like what you see? Visit the ' +\n",
              "          '<a target=\"_blank\" href=https://colab.research.google.com/notebooks/data_table.ipynb>data table notebook</a>'\n",
              "          + ' to learn more about interactive tables.';\n",
              "        element.innerHTML = '';\n",
              "        dataTable['output_type'] = 'display_data';\n",
              "        await google.colab.output.renderOutput(dataTable, element);\n",
              "        const docLink = document.createElement('div');\n",
              "        docLink.innerHTML = docLinkHtml;\n",
              "        element.appendChild(docLink);\n",
              "      }\n",
              "    </script>\n",
              "  </div>\n",
              "\n",
              "\n",
              "<div id=\"df-1fc580c6-d430-4879-9411-2fd7fea7aaa1\">\n",
              "  <button class=\"colab-df-quickchart\" onclick=\"quickchart('df-1fc580c6-d430-4879-9411-2fd7fea7aaa1')\"\n",
              "            title=\"Suggest charts\"\n",
              "            style=\"display:none;\">\n",
              "\n",
              "<svg xmlns=\"http://www.w3.org/2000/svg\" height=\"24px\"viewBox=\"0 0 24 24\"\n",
              "     width=\"24px\">\n",
              "    <g>\n",
              "        <path d=\"M19 3H5c-1.1 0-2 .9-2 2v14c0 1.1.9 2 2 2h14c1.1 0 2-.9 2-2V5c0-1.1-.9-2-2-2zM9 17H7v-7h2v7zm4 0h-2V7h2v10zm4 0h-2v-4h2v4z\"/>\n",
              "    </g>\n",
              "</svg>\n",
              "  </button>\n",
              "\n",
              "<style>\n",
              "  .colab-df-quickchart {\n",
              "      --bg-color: #E8F0FE;\n",
              "      --fill-color: #1967D2;\n",
              "      --hover-bg-color: #E2EBFA;\n",
              "      --hover-fill-color: #174EA6;\n",
              "      --disabled-fill-color: #AAA;\n",
              "      --disabled-bg-color: #DDD;\n",
              "  }\n",
              "\n",
              "  [theme=dark] .colab-df-quickchart {\n",
              "      --bg-color: #3B4455;\n",
              "      --fill-color: #D2E3FC;\n",
              "      --hover-bg-color: #434B5C;\n",
              "      --hover-fill-color: #FFFFFF;\n",
              "      --disabled-bg-color: #3B4455;\n",
              "      --disabled-fill-color: #666;\n",
              "  }\n",
              "\n",
              "  .colab-df-quickchart {\n",
              "    background-color: var(--bg-color);\n",
              "    border: none;\n",
              "    border-radius: 50%;\n",
              "    cursor: pointer;\n",
              "    display: none;\n",
              "    fill: var(--fill-color);\n",
              "    height: 32px;\n",
              "    padding: 0;\n",
              "    width: 32px;\n",
              "  }\n",
              "\n",
              "  .colab-df-quickchart:hover {\n",
              "    background-color: var(--hover-bg-color);\n",
              "    box-shadow: 0 1px 2px rgba(60, 64, 67, 0.3), 0 1px 3px 1px rgba(60, 64, 67, 0.15);\n",
              "    fill: var(--button-hover-fill-color);\n",
              "  }\n",
              "\n",
              "  .colab-df-quickchart-complete:disabled,\n",
              "  .colab-df-quickchart-complete:disabled:hover {\n",
              "    background-color: var(--disabled-bg-color);\n",
              "    fill: var(--disabled-fill-color);\n",
              "    box-shadow: none;\n",
              "  }\n",
              "\n",
              "  .colab-df-spinner {\n",
              "    border: 2px solid var(--fill-color);\n",
              "    border-color: transparent;\n",
              "    border-bottom-color: var(--fill-color);\n",
              "    animation:\n",
              "      spin 1s steps(1) infinite;\n",
              "  }\n",
              "\n",
              "  @keyframes spin {\n",
              "    0% {\n",
              "      border-color: transparent;\n",
              "      border-bottom-color: var(--fill-color);\n",
              "      border-left-color: var(--fill-color);\n",
              "    }\n",
              "    20% {\n",
              "      border-color: transparent;\n",
              "      border-left-color: var(--fill-color);\n",
              "      border-top-color: var(--fill-color);\n",
              "    }\n",
              "    30% {\n",
              "      border-color: transparent;\n",
              "      border-left-color: var(--fill-color);\n",
              "      border-top-color: var(--fill-color);\n",
              "      border-right-color: var(--fill-color);\n",
              "    }\n",
              "    40% {\n",
              "      border-color: transparent;\n",
              "      border-right-color: var(--fill-color);\n",
              "      border-top-color: var(--fill-color);\n",
              "    }\n",
              "    60% {\n",
              "      border-color: transparent;\n",
              "      border-right-color: var(--fill-color);\n",
              "    }\n",
              "    80% {\n",
              "      border-color: transparent;\n",
              "      border-right-color: var(--fill-color);\n",
              "      border-bottom-color: var(--fill-color);\n",
              "    }\n",
              "    90% {\n",
              "      border-color: transparent;\n",
              "      border-bottom-color: var(--fill-color);\n",
              "    }\n",
              "  }\n",
              "</style>\n",
              "\n",
              "  <script>\n",
              "    async function quickchart(key) {\n",
              "      const quickchartButtonEl =\n",
              "        document.querySelector('#' + key + ' button');\n",
              "      quickchartButtonEl.disabled = true;  // To prevent multiple clicks.\n",
              "      quickchartButtonEl.classList.add('colab-df-spinner');\n",
              "      try {\n",
              "        const charts = await google.colab.kernel.invokeFunction(\n",
              "            'suggestCharts', [key], {});\n",
              "      } catch (error) {\n",
              "        console.error('Error during call to suggestCharts:', error);\n",
              "      }\n",
              "      quickchartButtonEl.classList.remove('colab-df-spinner');\n",
              "      quickchartButtonEl.classList.add('colab-df-quickchart-complete');\n",
              "    }\n",
              "    (() => {\n",
              "      let quickchartButtonEl =\n",
              "        document.querySelector('#df-1fc580c6-d430-4879-9411-2fd7fea7aaa1 button');\n",
              "      quickchartButtonEl.style.display =\n",
              "        google.colab.kernel.accessAllowed ? 'block' : 'none';\n",
              "    })();\n",
              "  </script>\n",
              "</div>\n",
              "\n",
              "    </div>\n",
              "  </div>\n"
            ],
            "application/vnd.google.colaboratory.intrinsic+json": {
              "type": "dataframe",
              "variable_name": "Chicago_listings",
              "summary": "{\n  \"name\": \"Chicago_listings\",\n  \"rows\": 8949,\n  \"fields\": [\n    {\n      \"column\": \"id\",\n      \"properties\": {\n        \"dtype\": \"number\",\n        \"std\": 424681679866001344,\n        \"min\": 2384,\n        \"max\": 1048045948317543945,\n        \"num_unique_values\": 8949,\n        \"samples\": [\n          802052397517471268,\n          766705080479926021,\n          43638464\n        ],\n        \"semantic_type\": \"\",\n        \"description\": \"\"\n      }\n    },\n    {\n      \"column\": \"name\",\n      \"properties\": {\n        \"dtype\": \"category\",\n        \"num_unique_values\": 3740,\n        \"samples\": [\n          \"Hotel in Chicago \\u00b7 3 bedrooms \\u00b7 3 beds \\u00b7 3 baths\",\n          \"Home in Chicago \\u00b7 \\u26054.85 \\u00b7 1 bedroom \\u00b7 1 bed \\u00b7 1.5 shared baths\",\n          \"Condo in Chicago \\u00b7 \\u26054.81 \\u00b7 2 bedrooms \\u00b7 2 beds \\u00b7 1 bath\"\n        ],\n        \"semantic_type\": \"\",\n        \"description\": \"\"\n      }\n    },\n    {\n      \"column\": \"host_id\",\n      \"properties\": {\n        \"dtype\": \"number\",\n        \"std\": 170826353,\n        \"min\": 2153,\n        \"max\": 549377953,\n        \"num_unique_values\": 3992,\n        \"samples\": [\n          188975516,\n          57533286,\n          198643172\n        ],\n        \"semantic_type\": \"\",\n        \"description\": \"\"\n      }\n    },\n    {\n      \"column\": \"host_name\",\n      \"properties\": {\n        \"dtype\": \"category\",\n        \"num_unique_values\": 2184,\n        \"samples\": [\n          \"Rajee\",\n          \"Kris\",\n          \"Lin\"\n        ],\n        \"semantic_type\": \"\",\n        \"description\": \"\"\n      }\n    },\n    {\n      \"column\": \"neighbourhood_group\",\n      \"properties\": {\n        \"dtype\": \"number\",\n        \"std\": null,\n        \"min\": null,\n        \"max\": null,\n        \"num_unique_values\": 0,\n        \"samples\": [],\n        \"semantic_type\": \"\",\n        \"description\": \"\"\n      }\n    },\n    {\n      \"column\": \"neighbourhood\",\n      \"properties\": {\n        \"dtype\": \"category\",\n        \"num_unique_values\": 77,\n        \"samples\": [],\n        \"semantic_type\": \"\",\n        \"description\": \"\"\n      }\n    },\n    {\n      \"column\": \"latitude\",\n      \"properties\": {\n        \"dtype\": \"number\",\n        \"std\": 0.06226451120532182,\n        \"min\": 41.64676712320157,\n        \"max\": 42.0222,\n        \"num_unique_values\": 7314,\n        \"samples\": [],\n        \"semantic_type\": \"\",\n        \"description\": \"\"\n      }\n    },\n    {\n      \"column\": \"longitude\",\n      \"properties\": {\n        \"dtype\": \"number\",\n        \"std\": 0.043951026378492054,\n        \"min\": -87.84724300287104,\n        \"max\": -87.52842,\n        \"num_unique_values\": 7058,\n        \"samples\": [],\n        \"semantic_type\": \"\",\n        \"description\": \"\"\n      }\n    },\n    {\n      \"column\": \"room_type\",\n      \"properties\": {\n        \"dtype\": \"category\",\n        \"num_unique_values\": 4,\n        \"samples\": [],\n        \"semantic_type\": \"\",\n        \"description\": \"\"\n      }\n    },\n    {\n      \"column\": \"price\",\n      \"properties\": {\n        \"dtype\": \"number\",\n        \"std\": 1112.3495274888667,\n        \"min\": 7.0,\n        \"max\": 99998.0,\n        \"num_unique_values\": 627,\n        \"samples\": [],\n        \"semantic_type\": \"\",\n        \"description\": \"\"\n      }\n    },\n    {\n      \"column\": \"minimum_nights\",\n      \"properties\": {\n        \"dtype\": \"number\",\n        \"std\": 41,\n        \"min\": 1,\n        \"max\": 1125,\n        \"num_unique_values\": 56,\n        \"samples\": [],\n        \"semantic_type\": \"\",\n        \"description\": \"\"\n      }\n    },\n    {\n      \"column\": \"number_of_reviews\",\n      \"properties\": {\n        \"dtype\": \"number\",\n        \"std\": 89,\n        \"min\": 0,\n        \"max\": 3501,\n        \"num_unique_values\": 428,\n        \"samples\": [],\n        \"semantic_type\": \"\",\n        \"description\": \"\"\n      }\n    },\n    {\n      \"column\": \"last_review\",\n      \"properties\": {\n        \"dtype\": \"object\",\n        \"num_unique_values\": 948,\n        \"samples\": [],\n        \"semantic_type\": \"\",\n        \"description\": \"\"\n      }\n    },\n    {\n      \"column\": \"reviews_per_month\",\n      \"properties\": {\n        \"dtype\": \"number\",\n        \"std\": 1.8589983680408817,\n        \"min\": 0.01,\n        \"max\": 56.2,\n        \"num_unique_values\": 667,\n        \"samples\": [],\n        \"semantic_type\": \"\",\n        \"description\": \"\"\n      }\n    },\n    {\n      \"column\": \"calculated_host_listings_count\",\n      \"properties\": {\n        \"dtype\": \"number\",\n        \"std\": 164,\n        \"min\": 1,\n        \"max\": 643,\n        \"num_unique_values\": 44,\n        \"samples\": [],\n        \"semantic_type\": \"\",\n        \"description\": \"\"\n      }\n    },\n    {\n      \"column\": \"availability_365\",\n      \"properties\": {\n        \"dtype\": \"number\",\n        \"std\": 140,\n        \"min\": 0,\n        \"max\": 365,\n        \"num_unique_values\": 366,\n        \"samples\": [],\n        \"semantic_type\": \"\",\n        \"description\": \"\"\n      }\n    },\n    {\n      \"column\": \"number_of_reviews_ltm\",\n      \"properties\": {\n        \"dtype\": \"number\",\n        \"std\": 20,\n        \"min\": 0,\n        \"max\": 596,\n        \"num_unique_values\": 121,\n        \"samples\": [],\n        \"semantic_type\": \"\",\n        \"description\": \"\"\n      }\n    },\n    {\n      \"column\": \"license\",\n      \"properties\": {\n        \"dtype\": \"category\",\n        \"num_unique_values\": 4430,\n        \"samples\": [],\n        \"semantic_type\": \"\",\n        \"description\": \"\"\n      }\n    }\n  ]\n}"
            }
          },
          "metadata": {},
          "execution_count": 5
        }
      ]
    },
    {
      "cell_type": "markdown",
      "source": [
        "### Dataset Rows & Columns count"
      ],
      "metadata": {
        "id": "7hBIi_osiCS2"
      }
    },
    {
      "cell_type": "code",
      "source": [
        "# New Orleans Dataset Rows & Columns count\n",
        "New_Orleans_listings.shape"
      ],
      "metadata": {
        "colab": {
          "base_uri": "https://localhost:8080/"
        },
        "id": "K1Kg7ZI3suQ4",
        "outputId": "b517d7dd-c06b-4dbb-fb3a-aff693f0e5a4"
      },
      "execution_count": null,
      "outputs": [
        {
          "output_type": "execute_result",
          "data": {
            "text/plain": [
              "(7075, 18)"
            ]
          },
          "metadata": {},
          "execution_count": 6
        }
      ]
    },
    {
      "cell_type": "code",
      "source": [
        "# Chicago Dataset Rows & Columns count\n",
        "Chicago_listings.shape"
      ],
      "metadata": {
        "id": "Kllu7SJgmLij",
        "colab": {
          "base_uri": "https://localhost:8080/"
        },
        "outputId": "ffa6279d-714d-45a5-b7c7-c4071d6a6f0a"
      },
      "execution_count": null,
      "outputs": [
        {
          "output_type": "execute_result",
          "data": {
            "text/plain": [
              "(8949, 18)"
            ]
          },
          "metadata": {},
          "execution_count": 7
        }
      ]
    },
    {
      "cell_type": "markdown",
      "source": [
        "### Dataset Information"
      ],
      "metadata": {
        "id": "JlHwYmJAmNHm"
      }
    },
    {
      "cell_type": "code",
      "source": [
        "# New Orleans Dataset Info\n",
        "New_Orleans_listings.info()"
      ],
      "metadata": {
        "colab": {
          "base_uri": "https://localhost:8080/"
        },
        "id": "Dz21a-P4s1Bw",
        "outputId": "42e32470-e966-41c0-cecd-3c3b9e598f5d"
      },
      "execution_count": null,
      "outputs": [
        {
          "output_type": "stream",
          "name": "stdout",
          "text": [
            "<class 'pandas.core.frame.DataFrame'>\n",
            "RangeIndex: 7075 entries, 0 to 7074\n",
            "Data columns (total 18 columns):\n",
            " #   Column                          Non-Null Count  Dtype  \n",
            "---  ------                          --------------  -----  \n",
            " 0   id                              7075 non-null   int64  \n",
            " 1   name                            7075 non-null   object \n",
            " 2   host_id                         7075 non-null   int64  \n",
            " 3   host_name                       7075 non-null   object \n",
            " 4   neighbourhood_group             0 non-null      float64\n",
            " 5   neighbourhood                   7075 non-null   object \n",
            " 6   latitude                        7075 non-null   float64\n",
            " 7   longitude                       7075 non-null   float64\n",
            " 8   room_type                       7075 non-null   object \n",
            " 9   price                           7075 non-null   int64  \n",
            " 10  minimum_nights                  7075 non-null   int64  \n",
            " 11  number_of_reviews               7075 non-null   int64  \n",
            " 12  last_review                     5944 non-null   object \n",
            " 13  reviews_per_month               5944 non-null   float64\n",
            " 14  calculated_host_listings_count  7075 non-null   int64  \n",
            " 15  availability_365                7075 non-null   int64  \n",
            " 16  number_of_reviews_ltm           7075 non-null   int64  \n",
            " 17  license                         5776 non-null   object \n",
            "dtypes: float64(4), int64(8), object(6)\n",
            "memory usage: 995.0+ KB\n"
          ]
        }
      ]
    },
    {
      "cell_type": "code",
      "source": [
        "# Chicago Dataset Info\n",
        "Chicago_listings.info()"
      ],
      "metadata": {
        "id": "e9hRXRi6meOf",
        "colab": {
          "base_uri": "https://localhost:8080/"
        },
        "outputId": "dcb62d02-22a9-4898-8358-388d16b0f211"
      },
      "execution_count": null,
      "outputs": [
        {
          "output_type": "stream",
          "name": "stdout",
          "text": [
            "<class 'pandas.core.frame.DataFrame'>\n",
            "RangeIndex: 8949 entries, 0 to 8948\n",
            "Data columns (total 18 columns):\n",
            " #   Column                          Non-Null Count  Dtype  \n",
            "---  ------                          --------------  -----  \n",
            " 0   id                              8949 non-null   int64  \n",
            " 1   name                            8949 non-null   object \n",
            " 2   host_id                         8949 non-null   int64  \n",
            " 3   host_name                       8949 non-null   object \n",
            " 4   neighbourhood_group             0 non-null      float64\n",
            " 5   neighbourhood                   8949 non-null   object \n",
            " 6   latitude                        8949 non-null   float64\n",
            " 7   longitude                       8949 non-null   float64\n",
            " 8   room_type                       8949 non-null   object \n",
            " 9   price                           8338 non-null   float64\n",
            " 10  minimum_nights                  8949 non-null   int64  \n",
            " 11  number_of_reviews               8949 non-null   int64  \n",
            " 12  last_review                     7042 non-null   object \n",
            " 13  reviews_per_month               7042 non-null   float64\n",
            " 14  calculated_host_listings_count  8949 non-null   int64  \n",
            " 15  availability_365                8949 non-null   int64  \n",
            " 16  number_of_reviews_ltm           8949 non-null   int64  \n",
            " 17  license                         7278 non-null   object \n",
            "dtypes: float64(5), int64(7), object(6)\n",
            "memory usage: 1.2+ MB\n"
          ]
        }
      ]
    },
    {
      "cell_type": "markdown",
      "source": [
        "#### Duplicate Values"
      ],
      "metadata": {
        "id": "35m5QtbWiB9F"
      }
    },
    {
      "cell_type": "code",
      "source": [
        "# Dataset Duplicate Value Count for New Orleans\n",
        "print(\"Number of duplicate rows in New Orleans:\",New_Orleans_listings.duplicated().sum())\n",
        "\n",
        "New_Orleans_listings.drop_duplicates(inplace=True)"
      ],
      "metadata": {
        "id": "1sLdpKYkmox0",
        "colab": {
          "base_uri": "https://localhost:8080/"
        },
        "outputId": "7e376599-3118-427d-f3a5-c8c36c95ccef"
      },
      "execution_count": null,
      "outputs": [
        {
          "output_type": "stream",
          "name": "stdout",
          "text": [
            "Number of duplicate rows in New Orleans: 0\n"
          ]
        }
      ]
    },
    {
      "cell_type": "code",
      "source": [
        "# Dataset Duplicate Value Count for Chicago\n",
        "print(\"Number of duplicate rows in Chicago:\",Chicago_listings.duplicated().sum())\n",
        "\n",
        "Chicago_listings.drop_duplicates(inplace=True)"
      ],
      "metadata": {
        "colab": {
          "base_uri": "https://localhost:8080/"
        },
        "id": "RJ3EOPSbtcOu",
        "outputId": "10ff46aa-5028-4e8d-ee94-910d1620c318"
      },
      "execution_count": null,
      "outputs": [
        {
          "output_type": "stream",
          "name": "stdout",
          "text": [
            "Number of duplicate rows in Chicago: 0\n"
          ]
        }
      ]
    },
    {
      "cell_type": "markdown",
      "source": [
        "#### Missing Values/Null Values"
      ],
      "metadata": {
        "id": "PoPl-ycgm1ru"
      }
    },
    {
      "cell_type": "code",
      "source": [
        "# Missing Values/Null Values Count in New Orleans dataset\n",
        "New_Orleans_listings.isnull().sum()"
      ],
      "metadata": {
        "id": "GgHWkxvamxVg",
        "colab": {
          "base_uri": "https://localhost:8080/"
        },
        "outputId": "34271a20-5440-480a-d2cd-010ddcd65040"
      },
      "execution_count": null,
      "outputs": [
        {
          "output_type": "execute_result",
          "data": {
            "text/plain": [
              "id                                   0\n",
              "name                                 0\n",
              "host_id                              0\n",
              "host_name                            0\n",
              "neighbourhood_group               7075\n",
              "neighbourhood                        0\n",
              "latitude                             0\n",
              "longitude                            0\n",
              "room_type                            0\n",
              "price                                0\n",
              "minimum_nights                       0\n",
              "number_of_reviews                    0\n",
              "last_review                       1131\n",
              "reviews_per_month                 1131\n",
              "calculated_host_listings_count       0\n",
              "availability_365                     0\n",
              "number_of_reviews_ltm                0\n",
              "license                           1299\n",
              "dtype: int64"
            ]
          },
          "metadata": {},
          "execution_count": 12
        }
      ]
    },
    {
      "cell_type": "code",
      "source": [
        "# Missing Values/Null Values Count in Chicago dataset\n",
        "Chicago_listings.isnull().sum()"
      ],
      "metadata": {
        "colab": {
          "base_uri": "https://localhost:8080/"
        },
        "id": "9ZZzsul_tvQg",
        "outputId": "dbefa92d-f9f4-4503-b02d-85234a39c2ce"
      },
      "execution_count": null,
      "outputs": [
        {
          "output_type": "execute_result",
          "data": {
            "text/plain": [
              "id                                   0\n",
              "name                                 0\n",
              "host_id                              0\n",
              "host_name                            0\n",
              "neighbourhood_group               8949\n",
              "neighbourhood                        0\n",
              "latitude                             0\n",
              "longitude                            0\n",
              "room_type                            0\n",
              "price                              611\n",
              "minimum_nights                       0\n",
              "number_of_reviews                    0\n",
              "last_review                       1907\n",
              "reviews_per_month                 1907\n",
              "calculated_host_listings_count       0\n",
              "availability_365                     0\n",
              "number_of_reviews_ltm                0\n",
              "license                           1671\n",
              "dtype: int64"
            ]
          },
          "metadata": {},
          "execution_count": 13
        }
      ]
    },
    {
      "cell_type": "markdown",
      "source": [
        "### What did you know about your dataset?"
      ],
      "metadata": {
        "id": "H0kj-8xxnORC"
      }
    },
    {
      "cell_type": "markdown",
      "source": [
        "The Airbnb Listings Data contains information about different properties available for rent on Airbnb in a specific city. Each record represents a unique listing and includes attributes such as property type, neighbourhood, number of bedrooms, pricing, availability, host information, and more.\n",
        "\n",
        "There are no duplicate rows in our dataset.\n",
        "\n",
        "The last_review and reviews_per_month column may have null values because of 0 number_of_reviews for that listing, hence the listing having 0 reviews don't have last review or reviews per month value.\n",
        "\n",
        "Last_review was in object datatype, while should be in datetime dtype"
      ],
      "metadata": {
        "id": "gfoNAAC-nUe_"
      }
    },
    {
      "cell_type": "markdown",
      "source": [
        "## ***2. Understanding Your Variables***"
      ],
      "metadata": {
        "id": "nA9Y7ga8ng1Z"
      }
    },
    {
      "cell_type": "code",
      "source": [
        "# New Orleans Dataset Columns\n",
        "New_Orleans_listings.columns"
      ],
      "metadata": {
        "id": "j7xfkqrt5Ag5",
        "colab": {
          "base_uri": "https://localhost:8080/"
        },
        "outputId": "375ea1aa-3c40-4035-ff41-07363883677a"
      },
      "execution_count": null,
      "outputs": [
        {
          "output_type": "execute_result",
          "data": {
            "text/plain": [
              "Index(['id', 'name', 'host_id', 'host_name', 'neighbourhood_group',\n",
              "       'neighbourhood', 'latitude', 'longitude', 'room_type', 'price',\n",
              "       'minimum_nights', 'number_of_reviews', 'last_review',\n",
              "       'reviews_per_month', 'calculated_host_listings_count',\n",
              "       'availability_365', 'number_of_reviews_ltm', 'license'],\n",
              "      dtype='object')"
            ]
          },
          "metadata": {},
          "execution_count": 14
        }
      ]
    },
    {
      "cell_type": "code",
      "source": [
        "# Chicago Dataset Columns\n",
        "Chicago_listings.columns"
      ],
      "metadata": {
        "colab": {
          "base_uri": "https://localhost:8080/"
        },
        "id": "xv3Eb1ilxYMy",
        "outputId": "213b1f13-8a63-402b-9cf2-50f38e42c7b0"
      },
      "execution_count": null,
      "outputs": [
        {
          "output_type": "execute_result",
          "data": {
            "text/plain": [
              "Index(['id', 'name', 'host_id', 'host_name', 'neighbourhood_group',\n",
              "       'neighbourhood', 'latitude', 'longitude', 'room_type', 'price',\n",
              "       'minimum_nights', 'number_of_reviews', 'last_review',\n",
              "       'reviews_per_month', 'calculated_host_listings_count',\n",
              "       'availability_365', 'number_of_reviews_ltm', 'license'],\n",
              "      dtype='object')"
            ]
          },
          "metadata": {},
          "execution_count": 15
        }
      ]
    },
    {
      "cell_type": "code",
      "source": [
        "# Dataset Describe for New Orleans\n",
        "New_Orleans_listings.describe()"
      ],
      "metadata": {
        "id": "DnOaZdaE5Q5t",
        "colab": {
          "base_uri": "https://localhost:8080/",
          "height": 320
        },
        "outputId": "9adf8443-cab7-49c0-a26d-a9c47c1648ab"
      },
      "execution_count": null,
      "outputs": [
        {
          "output_type": "execute_result",
          "data": {
            "text/plain": [
              "                 id       host_id  neighbourhood_group     latitude  \\\n",
              "count  7.075000e+03  7.075000e+03                  0.0  7075.000000   \n",
              "mean   3.311980e+17  1.894689e+08                  NaN    29.958587   \n",
              "std    4.035353e+17  1.728363e+08                  NaN     0.024083   \n",
              "min    1.909100e+04  9.710000e+02                  NaN    29.897680   \n",
              "25%    2.586572e+07  3.761466e+07                  NaN    29.942259   \n",
              "50%    4.912744e+07  1.216825e+08                  NaN    29.958955   \n",
              "75%    7.423690e+17  3.429100e+08                  NaN    29.969800   \n",
              "max    1.037102e+18  5.488747e+08                  NaN    30.161040   \n",
              "\n",
              "         longitude         price  minimum_nights  number_of_reviews  \\\n",
              "count  7075.000000   7075.000000     7075.000000        7075.000000   \n",
              "mean    -90.074019    206.593922       12.376961          63.018799   \n",
              "std       0.030882    281.714131       19.891839          94.675786   \n",
              "min     -90.137480     11.000000        1.000000           0.000000   \n",
              "25%     -90.089765     95.000000        2.000000           3.000000   \n",
              "50%     -90.073486    139.000000        2.000000          27.000000   \n",
              "75%     -90.062535    235.000000       30.000000          88.000000   \n",
              "max     -89.737090  10000.000000      365.000000        1605.000000   \n",
              "\n",
              "       reviews_per_month  calculated_host_listings_count  availability_365  \\\n",
              "count        5944.000000                     7075.000000       7075.000000   \n",
              "mean            1.752934                       13.148975        162.713074   \n",
              "std             1.693590                       23.187869        130.677640   \n",
              "min             0.010000                        1.000000          0.000000   \n",
              "25%             0.570000                        1.000000         28.000000   \n",
              "50%             1.420000                        3.000000        152.000000   \n",
              "75%             2.462500                       12.000000        293.000000   \n",
              "max            38.850000                      111.000000        365.000000   \n",
              "\n",
              "       number_of_reviews_ltm  \n",
              "count            7075.000000  \n",
              "mean               13.595053  \n",
              "std                21.203788  \n",
              "min                 0.000000  \n",
              "25%                 0.000000  \n",
              "50%                 5.000000  \n",
              "75%                21.000000  \n",
              "max               522.000000  "
            ],
            "text/html": [
              "\n",
              "  <div id=\"df-4c3de6b7-bc00-4c8d-a0d7-fe93fabc367f\" class=\"colab-df-container\">\n",
              "    <div>\n",
              "<style scoped>\n",
              "    .dataframe tbody tr th:only-of-type {\n",
              "        vertical-align: middle;\n",
              "    }\n",
              "\n",
              "    .dataframe tbody tr th {\n",
              "        vertical-align: top;\n",
              "    }\n",
              "\n",
              "    .dataframe thead th {\n",
              "        text-align: right;\n",
              "    }\n",
              "</style>\n",
              "<table border=\"1\" class=\"dataframe\">\n",
              "  <thead>\n",
              "    <tr style=\"text-align: right;\">\n",
              "      <th></th>\n",
              "      <th>id</th>\n",
              "      <th>host_id</th>\n",
              "      <th>neighbourhood_group</th>\n",
              "      <th>latitude</th>\n",
              "      <th>longitude</th>\n",
              "      <th>price</th>\n",
              "      <th>minimum_nights</th>\n",
              "      <th>number_of_reviews</th>\n",
              "      <th>reviews_per_month</th>\n",
              "      <th>calculated_host_listings_count</th>\n",
              "      <th>availability_365</th>\n",
              "      <th>number_of_reviews_ltm</th>\n",
              "    </tr>\n",
              "  </thead>\n",
              "  <tbody>\n",
              "    <tr>\n",
              "      <th>count</th>\n",
              "      <td>7.075000e+03</td>\n",
              "      <td>7.075000e+03</td>\n",
              "      <td>0.0</td>\n",
              "      <td>7075.000000</td>\n",
              "      <td>7075.000000</td>\n",
              "      <td>7075.000000</td>\n",
              "      <td>7075.000000</td>\n",
              "      <td>7075.000000</td>\n",
              "      <td>5944.000000</td>\n",
              "      <td>7075.000000</td>\n",
              "      <td>7075.000000</td>\n",
              "      <td>7075.000000</td>\n",
              "    </tr>\n",
              "    <tr>\n",
              "      <th>mean</th>\n",
              "      <td>3.311980e+17</td>\n",
              "      <td>1.894689e+08</td>\n",
              "      <td>NaN</td>\n",
              "      <td>29.958587</td>\n",
              "      <td>-90.074019</td>\n",
              "      <td>206.593922</td>\n",
              "      <td>12.376961</td>\n",
              "      <td>63.018799</td>\n",
              "      <td>1.752934</td>\n",
              "      <td>13.148975</td>\n",
              "      <td>162.713074</td>\n",
              "      <td>13.595053</td>\n",
              "    </tr>\n",
              "    <tr>\n",
              "      <th>std</th>\n",
              "      <td>4.035353e+17</td>\n",
              "      <td>1.728363e+08</td>\n",
              "      <td>NaN</td>\n",
              "      <td>0.024083</td>\n",
              "      <td>0.030882</td>\n",
              "      <td>281.714131</td>\n",
              "      <td>19.891839</td>\n",
              "      <td>94.675786</td>\n",
              "      <td>1.693590</td>\n",
              "      <td>23.187869</td>\n",
              "      <td>130.677640</td>\n",
              "      <td>21.203788</td>\n",
              "    </tr>\n",
              "    <tr>\n",
              "      <th>min</th>\n",
              "      <td>1.909100e+04</td>\n",
              "      <td>9.710000e+02</td>\n",
              "      <td>NaN</td>\n",
              "      <td>29.897680</td>\n",
              "      <td>-90.137480</td>\n",
              "      <td>11.000000</td>\n",
              "      <td>1.000000</td>\n",
              "      <td>0.000000</td>\n",
              "      <td>0.010000</td>\n",
              "      <td>1.000000</td>\n",
              "      <td>0.000000</td>\n",
              "      <td>0.000000</td>\n",
              "    </tr>\n",
              "    <tr>\n",
              "      <th>25%</th>\n",
              "      <td>2.586572e+07</td>\n",
              "      <td>3.761466e+07</td>\n",
              "      <td>NaN</td>\n",
              "      <td>29.942259</td>\n",
              "      <td>-90.089765</td>\n",
              "      <td>95.000000</td>\n",
              "      <td>2.000000</td>\n",
              "      <td>3.000000</td>\n",
              "      <td>0.570000</td>\n",
              "      <td>1.000000</td>\n",
              "      <td>28.000000</td>\n",
              "      <td>0.000000</td>\n",
              "    </tr>\n",
              "    <tr>\n",
              "      <th>50%</th>\n",
              "      <td>4.912744e+07</td>\n",
              "      <td>1.216825e+08</td>\n",
              "      <td>NaN</td>\n",
              "      <td>29.958955</td>\n",
              "      <td>-90.073486</td>\n",
              "      <td>139.000000</td>\n",
              "      <td>2.000000</td>\n",
              "      <td>27.000000</td>\n",
              "      <td>1.420000</td>\n",
              "      <td>3.000000</td>\n",
              "      <td>152.000000</td>\n",
              "      <td>5.000000</td>\n",
              "    </tr>\n",
              "    <tr>\n",
              "      <th>75%</th>\n",
              "      <td>7.423690e+17</td>\n",
              "      <td>3.429100e+08</td>\n",
              "      <td>NaN</td>\n",
              "      <td>29.969800</td>\n",
              "      <td>-90.062535</td>\n",
              "      <td>235.000000</td>\n",
              "      <td>30.000000</td>\n",
              "      <td>88.000000</td>\n",
              "      <td>2.462500</td>\n",
              "      <td>12.000000</td>\n",
              "      <td>293.000000</td>\n",
              "      <td>21.000000</td>\n",
              "    </tr>\n",
              "    <tr>\n",
              "      <th>max</th>\n",
              "      <td>1.037102e+18</td>\n",
              "      <td>5.488747e+08</td>\n",
              "      <td>NaN</td>\n",
              "      <td>30.161040</td>\n",
              "      <td>-89.737090</td>\n",
              "      <td>10000.000000</td>\n",
              "      <td>365.000000</td>\n",
              "      <td>1605.000000</td>\n",
              "      <td>38.850000</td>\n",
              "      <td>111.000000</td>\n",
              "      <td>365.000000</td>\n",
              "      <td>522.000000</td>\n",
              "    </tr>\n",
              "  </tbody>\n",
              "</table>\n",
              "</div>\n",
              "    <div class=\"colab-df-buttons\">\n",
              "\n",
              "  <div class=\"colab-df-container\">\n",
              "    <button class=\"colab-df-convert\" onclick=\"convertToInteractive('df-4c3de6b7-bc00-4c8d-a0d7-fe93fabc367f')\"\n",
              "            title=\"Convert this dataframe to an interactive table.\"\n",
              "            style=\"display:none;\">\n",
              "\n",
              "  <svg xmlns=\"http://www.w3.org/2000/svg\" height=\"24px\" viewBox=\"0 -960 960 960\">\n",
              "    <path d=\"M120-120v-720h720v720H120Zm60-500h600v-160H180v160Zm220 220h160v-160H400v160Zm0 220h160v-160H400v160ZM180-400h160v-160H180v160Zm440 0h160v-160H620v160ZM180-180h160v-160H180v160Zm440 0h160v-160H620v160Z\"/>\n",
              "  </svg>\n",
              "    </button>\n",
              "\n",
              "  <style>\n",
              "    .colab-df-container {\n",
              "      display:flex;\n",
              "      gap: 12px;\n",
              "    }\n",
              "\n",
              "    .colab-df-convert {\n",
              "      background-color: #E8F0FE;\n",
              "      border: none;\n",
              "      border-radius: 50%;\n",
              "      cursor: pointer;\n",
              "      display: none;\n",
              "      fill: #1967D2;\n",
              "      height: 32px;\n",
              "      padding: 0 0 0 0;\n",
              "      width: 32px;\n",
              "    }\n",
              "\n",
              "    .colab-df-convert:hover {\n",
              "      background-color: #E2EBFA;\n",
              "      box-shadow: 0px 1px 2px rgba(60, 64, 67, 0.3), 0px 1px 3px 1px rgba(60, 64, 67, 0.15);\n",
              "      fill: #174EA6;\n",
              "    }\n",
              "\n",
              "    .colab-df-buttons div {\n",
              "      margin-bottom: 4px;\n",
              "    }\n",
              "\n",
              "    [theme=dark] .colab-df-convert {\n",
              "      background-color: #3B4455;\n",
              "      fill: #D2E3FC;\n",
              "    }\n",
              "\n",
              "    [theme=dark] .colab-df-convert:hover {\n",
              "      background-color: #434B5C;\n",
              "      box-shadow: 0px 1px 3px 1px rgba(0, 0, 0, 0.15);\n",
              "      filter: drop-shadow(0px 1px 2px rgba(0, 0, 0, 0.3));\n",
              "      fill: #FFFFFF;\n",
              "    }\n",
              "  </style>\n",
              "\n",
              "    <script>\n",
              "      const buttonEl =\n",
              "        document.querySelector('#df-4c3de6b7-bc00-4c8d-a0d7-fe93fabc367f button.colab-df-convert');\n",
              "      buttonEl.style.display =\n",
              "        google.colab.kernel.accessAllowed ? 'block' : 'none';\n",
              "\n",
              "      async function convertToInteractive(key) {\n",
              "        const element = document.querySelector('#df-4c3de6b7-bc00-4c8d-a0d7-fe93fabc367f');\n",
              "        const dataTable =\n",
              "          await google.colab.kernel.invokeFunction('convertToInteractive',\n",
              "                                                    [key], {});\n",
              "        if (!dataTable) return;\n",
              "\n",
              "        const docLinkHtml = 'Like what you see? Visit the ' +\n",
              "          '<a target=\"_blank\" href=https://colab.research.google.com/notebooks/data_table.ipynb>data table notebook</a>'\n",
              "          + ' to learn more about interactive tables.';\n",
              "        element.innerHTML = '';\n",
              "        dataTable['output_type'] = 'display_data';\n",
              "        await google.colab.output.renderOutput(dataTable, element);\n",
              "        const docLink = document.createElement('div');\n",
              "        docLink.innerHTML = docLinkHtml;\n",
              "        element.appendChild(docLink);\n",
              "      }\n",
              "    </script>\n",
              "  </div>\n",
              "\n",
              "\n",
              "<div id=\"df-d6493f28-2c0e-4e7d-8268-128387f5837e\">\n",
              "  <button class=\"colab-df-quickchart\" onclick=\"quickchart('df-d6493f28-2c0e-4e7d-8268-128387f5837e')\"\n",
              "            title=\"Suggest charts\"\n",
              "            style=\"display:none;\">\n",
              "\n",
              "<svg xmlns=\"http://www.w3.org/2000/svg\" height=\"24px\"viewBox=\"0 0 24 24\"\n",
              "     width=\"24px\">\n",
              "    <g>\n",
              "        <path d=\"M19 3H5c-1.1 0-2 .9-2 2v14c0 1.1.9 2 2 2h14c1.1 0 2-.9 2-2V5c0-1.1-.9-2-2-2zM9 17H7v-7h2v7zm4 0h-2V7h2v10zm4 0h-2v-4h2v4z\"/>\n",
              "    </g>\n",
              "</svg>\n",
              "  </button>\n",
              "\n",
              "<style>\n",
              "  .colab-df-quickchart {\n",
              "      --bg-color: #E8F0FE;\n",
              "      --fill-color: #1967D2;\n",
              "      --hover-bg-color: #E2EBFA;\n",
              "      --hover-fill-color: #174EA6;\n",
              "      --disabled-fill-color: #AAA;\n",
              "      --disabled-bg-color: #DDD;\n",
              "  }\n",
              "\n",
              "  [theme=dark] .colab-df-quickchart {\n",
              "      --bg-color: #3B4455;\n",
              "      --fill-color: #D2E3FC;\n",
              "      --hover-bg-color: #434B5C;\n",
              "      --hover-fill-color: #FFFFFF;\n",
              "      --disabled-bg-color: #3B4455;\n",
              "      --disabled-fill-color: #666;\n",
              "  }\n",
              "\n",
              "  .colab-df-quickchart {\n",
              "    background-color: var(--bg-color);\n",
              "    border: none;\n",
              "    border-radius: 50%;\n",
              "    cursor: pointer;\n",
              "    display: none;\n",
              "    fill: var(--fill-color);\n",
              "    height: 32px;\n",
              "    padding: 0;\n",
              "    width: 32px;\n",
              "  }\n",
              "\n",
              "  .colab-df-quickchart:hover {\n",
              "    background-color: var(--hover-bg-color);\n",
              "    box-shadow: 0 1px 2px rgba(60, 64, 67, 0.3), 0 1px 3px 1px rgba(60, 64, 67, 0.15);\n",
              "    fill: var(--button-hover-fill-color);\n",
              "  }\n",
              "\n",
              "  .colab-df-quickchart-complete:disabled,\n",
              "  .colab-df-quickchart-complete:disabled:hover {\n",
              "    background-color: var(--disabled-bg-color);\n",
              "    fill: var(--disabled-fill-color);\n",
              "    box-shadow: none;\n",
              "  }\n",
              "\n",
              "  .colab-df-spinner {\n",
              "    border: 2px solid var(--fill-color);\n",
              "    border-color: transparent;\n",
              "    border-bottom-color: var(--fill-color);\n",
              "    animation:\n",
              "      spin 1s steps(1) infinite;\n",
              "  }\n",
              "\n",
              "  @keyframes spin {\n",
              "    0% {\n",
              "      border-color: transparent;\n",
              "      border-bottom-color: var(--fill-color);\n",
              "      border-left-color: var(--fill-color);\n",
              "    }\n",
              "    20% {\n",
              "      border-color: transparent;\n",
              "      border-left-color: var(--fill-color);\n",
              "      border-top-color: var(--fill-color);\n",
              "    }\n",
              "    30% {\n",
              "      border-color: transparent;\n",
              "      border-left-color: var(--fill-color);\n",
              "      border-top-color: var(--fill-color);\n",
              "      border-right-color: var(--fill-color);\n",
              "    }\n",
              "    40% {\n",
              "      border-color: transparent;\n",
              "      border-right-color: var(--fill-color);\n",
              "      border-top-color: var(--fill-color);\n",
              "    }\n",
              "    60% {\n",
              "      border-color: transparent;\n",
              "      border-right-color: var(--fill-color);\n",
              "    }\n",
              "    80% {\n",
              "      border-color: transparent;\n",
              "      border-right-color: var(--fill-color);\n",
              "      border-bottom-color: var(--fill-color);\n",
              "    }\n",
              "    90% {\n",
              "      border-color: transparent;\n",
              "      border-bottom-color: var(--fill-color);\n",
              "    }\n",
              "  }\n",
              "</style>\n",
              "\n",
              "  <script>\n",
              "    async function quickchart(key) {\n",
              "      const quickchartButtonEl =\n",
              "        document.querySelector('#' + key + ' button');\n",
              "      quickchartButtonEl.disabled = true;  // To prevent multiple clicks.\n",
              "      quickchartButtonEl.classList.add('colab-df-spinner');\n",
              "      try {\n",
              "        const charts = await google.colab.kernel.invokeFunction(\n",
              "            'suggestCharts', [key], {});\n",
              "      } catch (error) {\n",
              "        console.error('Error during call to suggestCharts:', error);\n",
              "      }\n",
              "      quickchartButtonEl.classList.remove('colab-df-spinner');\n",
              "      quickchartButtonEl.classList.add('colab-df-quickchart-complete');\n",
              "    }\n",
              "    (() => {\n",
              "      let quickchartButtonEl =\n",
              "        document.querySelector('#df-d6493f28-2c0e-4e7d-8268-128387f5837e button');\n",
              "      quickchartButtonEl.style.display =\n",
              "        google.colab.kernel.accessAllowed ? 'block' : 'none';\n",
              "    })();\n",
              "  </script>\n",
              "</div>\n",
              "\n",
              "    </div>\n",
              "  </div>\n"
            ],
            "application/vnd.google.colaboratory.intrinsic+json": {
              "type": "dataframe",
              "summary": "{\n  \"name\": \"New_Orleans_listings\",\n  \"rows\": 8,\n  \"fields\": [\n    {\n      \"column\": \"id\",\n      \"properties\": {\n        \"dtype\": \"number\",\n        \"std\": 3.980439508356828e+17,\n        \"min\": 7075.0,\n        \"max\": 1.0371024448684846e+18,\n        \"num_unique_values\": 8,\n        \"samples\": [\n          3.311979924839073e+17,\n          49127439.0,\n          7075.0\n        ],\n        \"semantic_type\": \"\",\n        \"description\": \"\"\n      }\n    },\n    {\n      \"column\": \"host_id\",\n      \"properties\": {\n        \"dtype\": \"number\",\n        \"std\": 189409735.5278029,\n        \"min\": 971.0,\n        \"max\": 548874676.0,\n        \"num_unique_values\": 8,\n        \"samples\": [\n          189468880.65130743,\n          121682456.0,\n          7075.0\n        ],\n        \"semantic_type\": \"\",\n        \"description\": \"\"\n      }\n    },\n    {\n      \"column\": \"neighbourhood_group\",\n      \"properties\": {\n        \"dtype\": \"number\",\n        \"std\": null,\n        \"min\": 0.0,\n        \"max\": 0.0,\n        \"num_unique_values\": 1,\n        \"samples\": [\n          0.0\n        ],\n        \"semantic_type\": \"\",\n        \"description\": \"\"\n      }\n    },\n    {\n      \"column\": \"latitude\",\n      \"properties\": {\n        \"dtype\": \"number\",\n        \"std\": 2492.3253369273807,\n        \"min\": 0.024082999227787553,\n        \"max\": 7075.0,\n        \"num_unique_values\": 8,\n        \"samples\": [\n          29.95858662652218\n        ],\n        \"semantic_type\": \"\",\n        \"description\": \"\"\n      }\n    },\n    {\n      \"column\": \"longitude\",\n      \"properties\": {\n        \"dtype\": \"number\",\n        \"std\": 2528.867979495402,\n        \"min\": -90.13748,\n        \"max\": 7075.0,\n        \"num_unique_values\": 8,\n        \"samples\": [\n          -90.07401894515667\n        ],\n        \"semantic_type\": \"\",\n        \"description\": \"\"\n      }\n    },\n    {\n      \"column\": \"price\",\n      \"properties\": {\n        \"dtype\": \"number\",\n        \"std\": 3956.301306850457,\n        \"min\": 11.0,\n        \"max\": 10000.0,\n        \"num_unique_values\": 8,\n        \"samples\": [\n          206.5939222614841\n        ],\n        \"semantic_type\": \"\",\n        \"description\": \"\"\n      }\n    },\n    {\n      \"column\": \"minimum_nights\",\n      \"properties\": {\n        \"dtype\": \"number\",\n        \"std\": 2482.6662588245094,\n        \"min\": 1.0,\n        \"max\": 7075.0,\n        \"num_unique_values\": 7,\n        \"samples\": [\n          7075.0\n        ],\n        \"semantic_type\": \"\",\n        \"description\": \"\"\n      }\n    },\n    {\n      \"column\": \"number_of_reviews\",\n      \"properties\": {\n        \"dtype\": \"number\",\n        \"std\": 2467.720425438962,\n        \"min\": 0.0,\n        \"max\": 7075.0,\n        \"num_unique_values\": 8,\n        \"samples\": [\n          63.01879858657244\n        ],\n        \"semantic_type\": \"\",\n        \"description\": \"\"\n      }\n    },\n    {\n      \"column\": \"reviews_per_month\",\n      \"properties\": {\n        \"dtype\": \"number\",\n        \"std\": 2099.200883974968,\n        \"min\": 0.01,\n        \"max\": 5944.0,\n        \"num_unique_values\": 8,\n        \"samples\": [\n          1.7529340511440106\n        ],\n        \"semantic_type\": \"\",\n        \"description\": \"\"\n      }\n    },\n    {\n      \"column\": \"calculated_host_listings_count\",\n      \"properties\": {\n        \"dtype\": \"number\",\n        \"std\": 2493.3572269942324,\n        \"min\": 1.0,\n        \"max\": 7075.0,\n        \"num_unique_values\": 7,\n        \"samples\": [\n          7075.0\n        ],\n        \"semantic_type\": \"\",\n        \"description\": \"\"\n      }\n    },\n    {\n      \"column\": \"availability_365\",\n      \"properties\": {\n        \"dtype\": \"number\",\n        \"std\": 2447.2735009820813,\n        \"min\": 0.0,\n        \"max\": 7075.0,\n        \"num_unique_values\": 8,\n        \"samples\": [\n          162.713074204947\n        ],\n        \"semantic_type\": \"\",\n        \"description\": \"\"\n      }\n    },\n    {\n      \"column\": \"number_of_reviews_ltm\",\n      \"properties\": {\n        \"dtype\": \"number\",\n        \"std\": 2478.4492282739334,\n        \"min\": 0.0,\n        \"max\": 7075.0,\n        \"num_unique_values\": 7,\n        \"samples\": [\n          7075.0\n        ],\n        \"semantic_type\": \"\",\n        \"description\": \"\"\n      }\n    }\n  ]\n}"
            }
          },
          "metadata": {},
          "execution_count": 16
        }
      ]
    },
    {
      "cell_type": "code",
      "source": [
        "# Dataset Describe for Chicago\n",
        "Chicago_listings.describe()"
      ],
      "metadata": {
        "colab": {
          "base_uri": "https://localhost:8080/",
          "height": 320
        },
        "id": "xbJZ8IxmxemK",
        "outputId": "250baf26-6ff0-41c4-84d7-e818daaa1c72"
      },
      "execution_count": null,
      "outputs": [
        {
          "output_type": "execute_result",
          "data": {
            "text/plain": [
              "                 id       host_id  neighbourhood_group     latitude  \\\n",
              "count  8.949000e+03  8.949000e+03                  0.0  8949.000000   \n",
              "mean   4.189903e+17  1.829973e+08                  NaN    41.892335   \n",
              "std    4.246817e+17  1.708264e+08                  NaN     0.062265   \n",
              "min    2.384000e+03  2.153000e+03                  NaN    41.646767   \n",
              "25%    3.743244e+07  3.534246e+07                  NaN    41.862740   \n",
              "50%    5.585691e+17  1.082110e+08                  NaN    41.896218   \n",
              "75%    8.471068e+17  3.277096e+08                  NaN    41.935150   \n",
              "max    1.048046e+18  5.493780e+08                  NaN    42.022200   \n",
              "\n",
              "         longitude         price  minimum_nights  number_of_reviews  \\\n",
              "count  8949.000000   8338.000000     8949.000000        8949.000000   \n",
              "mean    -87.661974    173.167786       15.881439          46.773159   \n",
              "std       0.043951   1112.349527       41.144839          89.977542   \n",
              "min     -87.847243      7.000000        1.000000           0.000000   \n",
              "25%     -87.685360     70.250000        2.000000           1.000000   \n",
              "50%     -87.657240    115.000000        2.000000          14.000000   \n",
              "75%     -87.630250    178.000000       32.000000          55.000000   \n",
              "max     -87.528420  99998.000000     1125.000000        3501.000000   \n",
              "\n",
              "       reviews_per_month  calculated_host_listings_count  availability_365  \\\n",
              "count        7042.000000                     8949.000000       8949.000000   \n",
              "mean            1.834915                       55.985361        189.932283   \n",
              "std             1.858998                      164.076829        140.088536   \n",
              "min             0.010000                        1.000000          0.000000   \n",
              "25%             0.480000                        1.000000         45.000000   \n",
              "50%             1.490000                        3.000000        180.000000   \n",
              "75%             2.710000                       19.000000        339.000000   \n",
              "max            56.200000                      643.000000        365.000000   \n",
              "\n",
              "       number_of_reviews_ltm  \n",
              "count            8949.000000  \n",
              "mean               12.933624  \n",
              "std                20.119904  \n",
              "min                 0.000000  \n",
              "25%                 0.000000  \n",
              "50%                 4.000000  \n",
              "75%                21.000000  \n",
              "max               596.000000  "
            ],
            "text/html": [
              "\n",
              "  <div id=\"df-ebe04cfa-66a4-4729-bb18-590f78c9b957\" class=\"colab-df-container\">\n",
              "    <div>\n",
              "<style scoped>\n",
              "    .dataframe tbody tr th:only-of-type {\n",
              "        vertical-align: middle;\n",
              "    }\n",
              "\n",
              "    .dataframe tbody tr th {\n",
              "        vertical-align: top;\n",
              "    }\n",
              "\n",
              "    .dataframe thead th {\n",
              "        text-align: right;\n",
              "    }\n",
              "</style>\n",
              "<table border=\"1\" class=\"dataframe\">\n",
              "  <thead>\n",
              "    <tr style=\"text-align: right;\">\n",
              "      <th></th>\n",
              "      <th>id</th>\n",
              "      <th>host_id</th>\n",
              "      <th>neighbourhood_group</th>\n",
              "      <th>latitude</th>\n",
              "      <th>longitude</th>\n",
              "      <th>price</th>\n",
              "      <th>minimum_nights</th>\n",
              "      <th>number_of_reviews</th>\n",
              "      <th>reviews_per_month</th>\n",
              "      <th>calculated_host_listings_count</th>\n",
              "      <th>availability_365</th>\n",
              "      <th>number_of_reviews_ltm</th>\n",
              "    </tr>\n",
              "  </thead>\n",
              "  <tbody>\n",
              "    <tr>\n",
              "      <th>count</th>\n",
              "      <td>8.949000e+03</td>\n",
              "      <td>8.949000e+03</td>\n",
              "      <td>0.0</td>\n",
              "      <td>8949.000000</td>\n",
              "      <td>8949.000000</td>\n",
              "      <td>8338.000000</td>\n",
              "      <td>8949.000000</td>\n",
              "      <td>8949.000000</td>\n",
              "      <td>7042.000000</td>\n",
              "      <td>8949.000000</td>\n",
              "      <td>8949.000000</td>\n",
              "      <td>8949.000000</td>\n",
              "    </tr>\n",
              "    <tr>\n",
              "      <th>mean</th>\n",
              "      <td>4.189903e+17</td>\n",
              "      <td>1.829973e+08</td>\n",
              "      <td>NaN</td>\n",
              "      <td>41.892335</td>\n",
              "      <td>-87.661974</td>\n",
              "      <td>173.167786</td>\n",
              "      <td>15.881439</td>\n",
              "      <td>46.773159</td>\n",
              "      <td>1.834915</td>\n",
              "      <td>55.985361</td>\n",
              "      <td>189.932283</td>\n",
              "      <td>12.933624</td>\n",
              "    </tr>\n",
              "    <tr>\n",
              "      <th>std</th>\n",
              "      <td>4.246817e+17</td>\n",
              "      <td>1.708264e+08</td>\n",
              "      <td>NaN</td>\n",
              "      <td>0.062265</td>\n",
              "      <td>0.043951</td>\n",
              "      <td>1112.349527</td>\n",
              "      <td>41.144839</td>\n",
              "      <td>89.977542</td>\n",
              "      <td>1.858998</td>\n",
              "      <td>164.076829</td>\n",
              "      <td>140.088536</td>\n",
              "      <td>20.119904</td>\n",
              "    </tr>\n",
              "    <tr>\n",
              "      <th>min</th>\n",
              "      <td>2.384000e+03</td>\n",
              "      <td>2.153000e+03</td>\n",
              "      <td>NaN</td>\n",
              "      <td>41.646767</td>\n",
              "      <td>-87.847243</td>\n",
              "      <td>7.000000</td>\n",
              "      <td>1.000000</td>\n",
              "      <td>0.000000</td>\n",
              "      <td>0.010000</td>\n",
              "      <td>1.000000</td>\n",
              "      <td>0.000000</td>\n",
              "      <td>0.000000</td>\n",
              "    </tr>\n",
              "    <tr>\n",
              "      <th>25%</th>\n",
              "      <td>3.743244e+07</td>\n",
              "      <td>3.534246e+07</td>\n",
              "      <td>NaN</td>\n",
              "      <td>41.862740</td>\n",
              "      <td>-87.685360</td>\n",
              "      <td>70.250000</td>\n",
              "      <td>2.000000</td>\n",
              "      <td>1.000000</td>\n",
              "      <td>0.480000</td>\n",
              "      <td>1.000000</td>\n",
              "      <td>45.000000</td>\n",
              "      <td>0.000000</td>\n",
              "    </tr>\n",
              "    <tr>\n",
              "      <th>50%</th>\n",
              "      <td>5.585691e+17</td>\n",
              "      <td>1.082110e+08</td>\n",
              "      <td>NaN</td>\n",
              "      <td>41.896218</td>\n",
              "      <td>-87.657240</td>\n",
              "      <td>115.000000</td>\n",
              "      <td>2.000000</td>\n",
              "      <td>14.000000</td>\n",
              "      <td>1.490000</td>\n",
              "      <td>3.000000</td>\n",
              "      <td>180.000000</td>\n",
              "      <td>4.000000</td>\n",
              "    </tr>\n",
              "    <tr>\n",
              "      <th>75%</th>\n",
              "      <td>8.471068e+17</td>\n",
              "      <td>3.277096e+08</td>\n",
              "      <td>NaN</td>\n",
              "      <td>41.935150</td>\n",
              "      <td>-87.630250</td>\n",
              "      <td>178.000000</td>\n",
              "      <td>32.000000</td>\n",
              "      <td>55.000000</td>\n",
              "      <td>2.710000</td>\n",
              "      <td>19.000000</td>\n",
              "      <td>339.000000</td>\n",
              "      <td>21.000000</td>\n",
              "    </tr>\n",
              "    <tr>\n",
              "      <th>max</th>\n",
              "      <td>1.048046e+18</td>\n",
              "      <td>5.493780e+08</td>\n",
              "      <td>NaN</td>\n",
              "      <td>42.022200</td>\n",
              "      <td>-87.528420</td>\n",
              "      <td>99998.000000</td>\n",
              "      <td>1125.000000</td>\n",
              "      <td>3501.000000</td>\n",
              "      <td>56.200000</td>\n",
              "      <td>643.000000</td>\n",
              "      <td>365.000000</td>\n",
              "      <td>596.000000</td>\n",
              "    </tr>\n",
              "  </tbody>\n",
              "</table>\n",
              "</div>\n",
              "    <div class=\"colab-df-buttons\">\n",
              "\n",
              "  <div class=\"colab-df-container\">\n",
              "    <button class=\"colab-df-convert\" onclick=\"convertToInteractive('df-ebe04cfa-66a4-4729-bb18-590f78c9b957')\"\n",
              "            title=\"Convert this dataframe to an interactive table.\"\n",
              "            style=\"display:none;\">\n",
              "\n",
              "  <svg xmlns=\"http://www.w3.org/2000/svg\" height=\"24px\" viewBox=\"0 -960 960 960\">\n",
              "    <path d=\"M120-120v-720h720v720H120Zm60-500h600v-160H180v160Zm220 220h160v-160H400v160Zm0 220h160v-160H400v160ZM180-400h160v-160H180v160Zm440 0h160v-160H620v160ZM180-180h160v-160H180v160Zm440 0h160v-160H620v160Z\"/>\n",
              "  </svg>\n",
              "    </button>\n",
              "\n",
              "  <style>\n",
              "    .colab-df-container {\n",
              "      display:flex;\n",
              "      gap: 12px;\n",
              "    }\n",
              "\n",
              "    .colab-df-convert {\n",
              "      background-color: #E8F0FE;\n",
              "      border: none;\n",
              "      border-radius: 50%;\n",
              "      cursor: pointer;\n",
              "      display: none;\n",
              "      fill: #1967D2;\n",
              "      height: 32px;\n",
              "      padding: 0 0 0 0;\n",
              "      width: 32px;\n",
              "    }\n",
              "\n",
              "    .colab-df-convert:hover {\n",
              "      background-color: #E2EBFA;\n",
              "      box-shadow: 0px 1px 2px rgba(60, 64, 67, 0.3), 0px 1px 3px 1px rgba(60, 64, 67, 0.15);\n",
              "      fill: #174EA6;\n",
              "    }\n",
              "\n",
              "    .colab-df-buttons div {\n",
              "      margin-bottom: 4px;\n",
              "    }\n",
              "\n",
              "    [theme=dark] .colab-df-convert {\n",
              "      background-color: #3B4455;\n",
              "      fill: #D2E3FC;\n",
              "    }\n",
              "\n",
              "    [theme=dark] .colab-df-convert:hover {\n",
              "      background-color: #434B5C;\n",
              "      box-shadow: 0px 1px 3px 1px rgba(0, 0, 0, 0.15);\n",
              "      filter: drop-shadow(0px 1px 2px rgba(0, 0, 0, 0.3));\n",
              "      fill: #FFFFFF;\n",
              "    }\n",
              "  </style>\n",
              "\n",
              "    <script>\n",
              "      const buttonEl =\n",
              "        document.querySelector('#df-ebe04cfa-66a4-4729-bb18-590f78c9b957 button.colab-df-convert');\n",
              "      buttonEl.style.display =\n",
              "        google.colab.kernel.accessAllowed ? 'block' : 'none';\n",
              "\n",
              "      async function convertToInteractive(key) {\n",
              "        const element = document.querySelector('#df-ebe04cfa-66a4-4729-bb18-590f78c9b957');\n",
              "        const dataTable =\n",
              "          await google.colab.kernel.invokeFunction('convertToInteractive',\n",
              "                                                    [key], {});\n",
              "        if (!dataTable) return;\n",
              "\n",
              "        const docLinkHtml = 'Like what you see? Visit the ' +\n",
              "          '<a target=\"_blank\" href=https://colab.research.google.com/notebooks/data_table.ipynb>data table notebook</a>'\n",
              "          + ' to learn more about interactive tables.';\n",
              "        element.innerHTML = '';\n",
              "        dataTable['output_type'] = 'display_data';\n",
              "        await google.colab.output.renderOutput(dataTable, element);\n",
              "        const docLink = document.createElement('div');\n",
              "        docLink.innerHTML = docLinkHtml;\n",
              "        element.appendChild(docLink);\n",
              "      }\n",
              "    </script>\n",
              "  </div>\n",
              "\n",
              "\n",
              "<div id=\"df-d273fd4a-581a-40c5-ae56-7191e8ab4c66\">\n",
              "  <button class=\"colab-df-quickchart\" onclick=\"quickchart('df-d273fd4a-581a-40c5-ae56-7191e8ab4c66')\"\n",
              "            title=\"Suggest charts\"\n",
              "            style=\"display:none;\">\n",
              "\n",
              "<svg xmlns=\"http://www.w3.org/2000/svg\" height=\"24px\"viewBox=\"0 0 24 24\"\n",
              "     width=\"24px\">\n",
              "    <g>\n",
              "        <path d=\"M19 3H5c-1.1 0-2 .9-2 2v14c0 1.1.9 2 2 2h14c1.1 0 2-.9 2-2V5c0-1.1-.9-2-2-2zM9 17H7v-7h2v7zm4 0h-2V7h2v10zm4 0h-2v-4h2v4z\"/>\n",
              "    </g>\n",
              "</svg>\n",
              "  </button>\n",
              "\n",
              "<style>\n",
              "  .colab-df-quickchart {\n",
              "      --bg-color: #E8F0FE;\n",
              "      --fill-color: #1967D2;\n",
              "      --hover-bg-color: #E2EBFA;\n",
              "      --hover-fill-color: #174EA6;\n",
              "      --disabled-fill-color: #AAA;\n",
              "      --disabled-bg-color: #DDD;\n",
              "  }\n",
              "\n",
              "  [theme=dark] .colab-df-quickchart {\n",
              "      --bg-color: #3B4455;\n",
              "      --fill-color: #D2E3FC;\n",
              "      --hover-bg-color: #434B5C;\n",
              "      --hover-fill-color: #FFFFFF;\n",
              "      --disabled-bg-color: #3B4455;\n",
              "      --disabled-fill-color: #666;\n",
              "  }\n",
              "\n",
              "  .colab-df-quickchart {\n",
              "    background-color: var(--bg-color);\n",
              "    border: none;\n",
              "    border-radius: 50%;\n",
              "    cursor: pointer;\n",
              "    display: none;\n",
              "    fill: var(--fill-color);\n",
              "    height: 32px;\n",
              "    padding: 0;\n",
              "    width: 32px;\n",
              "  }\n",
              "\n",
              "  .colab-df-quickchart:hover {\n",
              "    background-color: var(--hover-bg-color);\n",
              "    box-shadow: 0 1px 2px rgba(60, 64, 67, 0.3), 0 1px 3px 1px rgba(60, 64, 67, 0.15);\n",
              "    fill: var(--button-hover-fill-color);\n",
              "  }\n",
              "\n",
              "  .colab-df-quickchart-complete:disabled,\n",
              "  .colab-df-quickchart-complete:disabled:hover {\n",
              "    background-color: var(--disabled-bg-color);\n",
              "    fill: var(--disabled-fill-color);\n",
              "    box-shadow: none;\n",
              "  }\n",
              "\n",
              "  .colab-df-spinner {\n",
              "    border: 2px solid var(--fill-color);\n",
              "    border-color: transparent;\n",
              "    border-bottom-color: var(--fill-color);\n",
              "    animation:\n",
              "      spin 1s steps(1) infinite;\n",
              "  }\n",
              "\n",
              "  @keyframes spin {\n",
              "    0% {\n",
              "      border-color: transparent;\n",
              "      border-bottom-color: var(--fill-color);\n",
              "      border-left-color: var(--fill-color);\n",
              "    }\n",
              "    20% {\n",
              "      border-color: transparent;\n",
              "      border-left-color: var(--fill-color);\n",
              "      border-top-color: var(--fill-color);\n",
              "    }\n",
              "    30% {\n",
              "      border-color: transparent;\n",
              "      border-left-color: var(--fill-color);\n",
              "      border-top-color: var(--fill-color);\n",
              "      border-right-color: var(--fill-color);\n",
              "    }\n",
              "    40% {\n",
              "      border-color: transparent;\n",
              "      border-right-color: var(--fill-color);\n",
              "      border-top-color: var(--fill-color);\n",
              "    }\n",
              "    60% {\n",
              "      border-color: transparent;\n",
              "      border-right-color: var(--fill-color);\n",
              "    }\n",
              "    80% {\n",
              "      border-color: transparent;\n",
              "      border-right-color: var(--fill-color);\n",
              "      border-bottom-color: var(--fill-color);\n",
              "    }\n",
              "    90% {\n",
              "      border-color: transparent;\n",
              "      border-bottom-color: var(--fill-color);\n",
              "    }\n",
              "  }\n",
              "</style>\n",
              "\n",
              "  <script>\n",
              "    async function quickchart(key) {\n",
              "      const quickchartButtonEl =\n",
              "        document.querySelector('#' + key + ' button');\n",
              "      quickchartButtonEl.disabled = true;  // To prevent multiple clicks.\n",
              "      quickchartButtonEl.classList.add('colab-df-spinner');\n",
              "      try {\n",
              "        const charts = await google.colab.kernel.invokeFunction(\n",
              "            'suggestCharts', [key], {});\n",
              "      } catch (error) {\n",
              "        console.error('Error during call to suggestCharts:', error);\n",
              "      }\n",
              "      quickchartButtonEl.classList.remove('colab-df-spinner');\n",
              "      quickchartButtonEl.classList.add('colab-df-quickchart-complete');\n",
              "    }\n",
              "    (() => {\n",
              "      let quickchartButtonEl =\n",
              "        document.querySelector('#df-d273fd4a-581a-40c5-ae56-7191e8ab4c66 button');\n",
              "      quickchartButtonEl.style.display =\n",
              "        google.colab.kernel.accessAllowed ? 'block' : 'none';\n",
              "    })();\n",
              "  </script>\n",
              "</div>\n",
              "\n",
              "    </div>\n",
              "  </div>\n"
            ],
            "application/vnd.google.colaboratory.intrinsic+json": {
              "type": "dataframe",
              "summary": "{\n  \"name\": \"Chicago_listings\",\n  \"rows\": 8,\n  \"fields\": [\n    {\n      \"column\": \"id\",\n      \"properties\": {\n        \"dtype\": \"number\",\n        \"std\": 4.0085557768627514e+17,\n        \"min\": 2384.0,\n        \"max\": 1.048045948317544e+18,\n        \"num_unique_values\": 8,\n        \"samples\": [\n          4.189903055175171e+17,\n          5.585690871235906e+17,\n          8949.0\n        ],\n        \"semantic_type\": \"\",\n        \"description\": \"\"\n      }\n    },\n    {\n      \"column\": \"host_id\",\n      \"properties\": {\n        \"dtype\": \"number\",\n        \"std\": 188486502.93595764,\n        \"min\": 2153.0,\n        \"max\": 549377953.0,\n        \"num_unique_values\": 8,\n        \"samples\": [\n          182997250.81361046,\n          108210969.0,\n          8949.0\n        ],\n        \"semantic_type\": \"\",\n        \"description\": \"\"\n      }\n    },\n    {\n      \"column\": \"neighbourhood_group\",\n      \"properties\": {\n        \"dtype\": \"number\",\n        \"std\": null,\n        \"min\": 0.0,\n        \"max\": 0.0,\n        \"num_unique_values\": 1,\n        \"samples\": [\n          0.0\n        ],\n        \"semantic_type\": \"\",\n        \"description\": \"\"\n      }\n    },\n    {\n      \"column\": \"latitude\",\n      \"properties\": {\n        \"dtype\": \"number\",\n        \"std\": 3151.289803170772,\n        \"min\": 0.06226451120532182,\n        \"max\": 8949.0,\n        \"num_unique_values\": 8,\n        \"samples\": [\n          41.89233488785583\n        ],\n        \"semantic_type\": \"\",\n        \"description\": \"\"\n      }\n    },\n    {\n      \"column\": \"longitude\",\n      \"properties\": {\n        \"dtype\": \"number\",\n        \"std\": 3190.6622458490565,\n        \"min\": -87.84724300287104,\n        \"max\": 8949.0,\n        \"num_unique_values\": 8,\n        \"samples\": [\n          -87.6619743451508\n        ],\n        \"semantic_type\": \"\",\n        \"description\": \"\"\n      }\n    },\n    {\n      \"column\": \"price\",\n      \"properties\": {\n        \"dtype\": \"number\",\n        \"std\": 34965.62769353793,\n        \"min\": 7.0,\n        \"max\": 99998.0,\n        \"num_unique_values\": 8,\n        \"samples\": [\n          173.1677860398177\n        ],\n        \"semantic_type\": \"\",\n        \"description\": \"\"\n      }\n    },\n    {\n      \"column\": \"minimum_nights\",\n      \"properties\": {\n        \"dtype\": \"number\",\n        \"std\": 3126.604943722456,\n        \"min\": 1.0,\n        \"max\": 8949.0,\n        \"num_unique_values\": 7,\n        \"samples\": [\n          8949.0\n        ],\n        \"semantic_type\": \"\",\n        \"description\": \"\"\n      }\n    },\n    {\n      \"column\": \"number_of_reviews\",\n      \"properties\": {\n        \"dtype\": \"number\",\n        \"std\": 3214.4970812294036,\n        \"min\": 0.0,\n        \"max\": 8949.0,\n        \"num_unique_values\": 8,\n        \"samples\": [\n          46.77315901218013\n        ],\n        \"semantic_type\": \"\",\n        \"description\": \"\"\n      }\n    },\n    {\n      \"column\": \"reviews_per_month\",\n      \"properties\": {\n        \"dtype\": \"number\",\n        \"std\": 2486.5350876019756,\n        \"min\": 0.01,\n        \"max\": 7042.0,\n        \"num_unique_values\": 8,\n        \"samples\": [\n          1.8349147969326896\n        ],\n        \"semantic_type\": \"\",\n        \"description\": \"\"\n      }\n    },\n    {\n      \"column\": \"calculated_host_listings_count\",\n      \"properties\": {\n        \"dtype\": \"number\",\n        \"std\": 3126.727240148533,\n        \"min\": 1.0,\n        \"max\": 8949.0,\n        \"num_unique_values\": 7,\n        \"samples\": [\n          8949.0\n        ],\n        \"semantic_type\": \"\",\n        \"description\": \"\"\n      }\n    },\n    {\n      \"column\": \"availability_365\",\n      \"properties\": {\n        \"dtype\": \"number\",\n        \"std\": 3102.9343241697584,\n        \"min\": 0.0,\n        \"max\": 8949.0,\n        \"num_unique_values\": 8,\n        \"samples\": [\n          189.93228293664097\n        ],\n        \"semantic_type\": \"\",\n        \"description\": \"\"\n      }\n    },\n    {\n      \"column\": \"number_of_reviews_ltm\",\n      \"properties\": {\n        \"dtype\": \"number\",\n        \"std\": 3137.6405251970195,\n        \"min\": 0.0,\n        \"max\": 8949.0,\n        \"num_unique_values\": 7,\n        \"samples\": [\n          8949.0\n        ],\n        \"semantic_type\": \"\",\n        \"description\": \"\"\n      }\n    }\n  ]\n}"
            }
          },
          "metadata": {},
          "execution_count": 17
        }
      ]
    },
    {
      "cell_type": "markdown",
      "source": [
        "### Variables Description"
      ],
      "metadata": {
        "id": "PBTbrJXOngz2"
      }
    },
    {
      "cell_type": "markdown",
      "source": [
        "**Key Attributes**:\n",
        "\n",
        "1. id: Unique identifier for each listing.\n",
        "\n",
        "2. name: The title or name of the listing.\n",
        "\n",
        "3. host_id: Unique identifier for the host of the property.\n",
        "\n",
        "4. host_name: Name of the host.\n",
        "\n",
        "5. neighbourhood_group: The broader area or group that the neighbourhood belongs to.\n",
        "\n",
        "6. neighbourhood: Specific neighbourhood where the property is located.\n",
        "\n",
        "7. latitude: Latitude coordinate of the property.\n",
        "\n",
        "8. longitude: Longitude coordinate of the property.\n",
        "\n",
        "9. room_type: Type of room (e.g., Private room, Entire home/apt, Shared room).\n",
        "\n",
        "10. price: Price of the listing per night.\n",
        "\n",
        "11. minimum_nights: Minimum number of nights required for booking.\n",
        "\n",
        "12. number_of_reviews: Total number of reviews received for the listing.\n",
        "\n",
        "13. last_review: Date of the last review.\n",
        "\n",
        "14. reviews_per_month: Average number of reviews per month.\n",
        "\n",
        "15. availability_365: Number of days the listing is available for booking in a year."
      ],
      "metadata": {
        "id": "aJV4KIxSnxay"
      }
    },
    {
      "cell_type": "markdown",
      "source": [
        "### Check Unique Values for each variable."
      ],
      "metadata": {
        "id": "u3PMJOP6ngxN"
      }
    },
    {
      "cell_type": "code",
      "source": [
        "# Check Unique Values for each variable.\n",
        "unique_counts_New_Orleans = New_Orleans_listings.nunique()\n",
        "print(unique_counts_New_Orleans)"
      ],
      "metadata": {
        "id": "zms12Yq5n-jE",
        "colab": {
          "base_uri": "https://localhost:8080/"
        },
        "outputId": "a6597728-72c0-4978-e014-65898f521d56"
      },
      "execution_count": null,
      "outputs": [
        {
          "output_type": "stream",
          "name": "stdout",
          "text": [
            "id                                7075\n",
            "name                              3698\n",
            "host_id                           3464\n",
            "host_name                         1810\n",
            "neighbourhood_group                  0\n",
            "neighbourhood                       68\n",
            "latitude                          5234\n",
            "longitude                         5418\n",
            "room_type                            4\n",
            "price                              691\n",
            "minimum_nights                      33\n",
            "number_of_reviews                  438\n",
            "last_review                        844\n",
            "reviews_per_month                  634\n",
            "calculated_host_listings_count      43\n",
            "availability_365                   366\n",
            "number_of_reviews_ltm              116\n",
            "license                           4052\n",
            "dtype: int64\n"
          ]
        }
      ]
    },
    {
      "cell_type": "code",
      "source": [
        "# Check Unique Values for each variable.\n",
        "unique_counts_Chicago_listings = Chicago_listings.nunique()\n",
        "print(unique_counts_Chicago_listings)"
      ],
      "metadata": {
        "colab": {
          "base_uri": "https://localhost:8080/"
        },
        "id": "osfHseHF0UDA",
        "outputId": "a3586ecc-09fa-470b-ef36-17129a6de104"
      },
      "execution_count": null,
      "outputs": [
        {
          "output_type": "stream",
          "name": "stdout",
          "text": [
            "id                                8949\n",
            "name                              3740\n",
            "host_id                           3992\n",
            "host_name                         2184\n",
            "neighbourhood_group                  0\n",
            "neighbourhood                       77\n",
            "latitude                          7314\n",
            "longitude                         7058\n",
            "room_type                            4\n",
            "price                              627\n",
            "minimum_nights                      56\n",
            "number_of_reviews                  428\n",
            "last_review                        948\n",
            "reviews_per_month                  667\n",
            "calculated_host_listings_count      44\n",
            "availability_365                   366\n",
            "number_of_reviews_ltm              121\n",
            "license                           4430\n",
            "dtype: int64\n"
          ]
        }
      ]
    },
    {
      "cell_type": "markdown",
      "source": [
        "## 3. ***Data Wrangling***"
      ],
      "metadata": {
        "id": "dauF4eBmngu3"
      }
    },
    {
      "cell_type": "markdown",
      "source": [
        "### Data Wrangling Code"
      ],
      "metadata": {
        "id": "bKJF3rekwFvQ"
      }
    },
    {
      "cell_type": "markdown",
      "source": [
        "**Append the datasets**"
      ],
      "metadata": {
        "id": "IbM5p85Tx_L2"
      }
    },
    {
      "cell_type": "code",
      "source": [
        "# Appending the dataset vertically\n",
        "All_listings = pd.concat([New_Orleans_listings,Chicago_listings], axis = 0,ignore_index=True)"
      ],
      "metadata": {
        "id": "at_p1pgDy7T1"
      },
      "execution_count": null,
      "outputs": []
    },
    {
      "cell_type": "code",
      "source": [
        "# Appending the dataset resulting in increase of rows\n",
        "All_listings.shape"
      ],
      "metadata": {
        "colab": {
          "base_uri": "https://localhost:8080/"
        },
        "id": "aGUKG4Gk13ff",
        "outputId": "729c17f3-0311-423e-fe57-868b5e2b17a3"
      },
      "execution_count": null,
      "outputs": [
        {
          "output_type": "execute_result",
          "data": {
            "text/plain": [
              "(16024, 18)"
            ]
          },
          "metadata": {},
          "execution_count": 21
        }
      ]
    },
    {
      "cell_type": "code",
      "source": [
        "# Any duplicate id values are not present in the dataset after merging\n",
        "All_listings[\"id\"].duplicated().sum()"
      ],
      "metadata": {
        "colab": {
          "base_uri": "https://localhost:8080/"
        },
        "id": "HhMvyP9A2a3d",
        "outputId": "c2aaa171-bdb7-4e16-940c-1d6e78c59159"
      },
      "execution_count": null,
      "outputs": [
        {
          "output_type": "execute_result",
          "data": {
            "text/plain": [
              "0"
            ]
          },
          "metadata": {},
          "execution_count": 22
        }
      ]
    },
    {
      "cell_type": "code",
      "source": [
        "# Total null values in the dataset\n",
        "All_listings.isnull().sum()"
      ],
      "metadata": {
        "colab": {
          "base_uri": "https://localhost:8080/"
        },
        "id": "gS_WZhW92qgn",
        "outputId": "25669456-a5a1-4cc5-9c46-8f463bec2773"
      },
      "execution_count": null,
      "outputs": [
        {
          "output_type": "execute_result",
          "data": {
            "text/plain": [
              "id                                    0\n",
              "name                                  0\n",
              "host_id                               0\n",
              "host_name                             0\n",
              "neighbourhood_group               16024\n",
              "neighbourhood                         0\n",
              "latitude                              0\n",
              "longitude                             0\n",
              "room_type                             0\n",
              "price                               611\n",
              "minimum_nights                        0\n",
              "number_of_reviews                     0\n",
              "last_review                        3038\n",
              "reviews_per_month                  3038\n",
              "calculated_host_listings_count        0\n",
              "availability_365                      0\n",
              "number_of_reviews_ltm                 0\n",
              "license                            2970\n",
              "dtype: int64"
            ]
          },
          "metadata": {},
          "execution_count": 23
        }
      ]
    },
    {
      "cell_type": "code",
      "source": [
        "# Dropped the unnecessary columns\n",
        "All_listings.drop([\"neighbourhood_group\",\"number_of_reviews_ltm\",\"license\"], axis = 1, inplace =True)"
      ],
      "metadata": {
        "id": "wk-9a2fpoLcV"
      },
      "execution_count": null,
      "outputs": []
    },
    {
      "cell_type": "code",
      "source": [
        "# Removing Null values in name cand host_name column\n",
        "All_listings.dropna(subset=['name',\"host_name\"], inplace =True)"
      ],
      "metadata": {
        "id": "HyZnRogL7Aer"
      },
      "execution_count": null,
      "outputs": []
    },
    {
      "cell_type": "code",
      "source": [
        "# Removing Null values in Price column\n",
        "All_listings.dropna(subset=['price'], inplace =True)"
      ],
      "metadata": {
        "id": "AUgpftIn9g1C"
      },
      "execution_count": null,
      "outputs": []
    },
    {
      "cell_type": "code",
      "source": [
        "# Updated null values count\n",
        "All_listings.isna().sum()"
      ],
      "metadata": {
        "colab": {
          "base_uri": "https://localhost:8080/"
        },
        "id": "6d7EZf92RFjB",
        "outputId": "de2d1428-deae-4be0-e2df-67311e1d5688"
      },
      "execution_count": null,
      "outputs": [
        {
          "output_type": "execute_result",
          "data": {
            "text/plain": [
              "id                                   0\n",
              "name                                 0\n",
              "host_id                              0\n",
              "host_name                            0\n",
              "neighbourhood                        0\n",
              "latitude                             0\n",
              "longitude                            0\n",
              "room_type                            0\n",
              "price                                0\n",
              "minimum_nights                       0\n",
              "number_of_reviews                    0\n",
              "last_review                       2861\n",
              "reviews_per_month                 2861\n",
              "calculated_host_listings_count       0\n",
              "availability_365                     0\n",
              "dtype: int64"
            ]
          },
          "metadata": {},
          "execution_count": 27
        }
      ]
    },
    {
      "cell_type": "code",
      "source": [
        "# The listings having 0 reviews on AirBNB\n",
        "# number_of_reviews = 0, be the reason behind null values in last_review and reviews_per_month column.\n",
        "zero_reviews_Listing = All_listings[All_listings[\"number_of_reviews\"]== 0][[\"number_of_reviews\"]].count()\n",
        "print(zero_reviews_Listing)"
      ],
      "metadata": {
        "colab": {
          "base_uri": "https://localhost:8080/"
        },
        "id": "psbgGHH8Uels",
        "outputId": "9c27889e-20a6-4307-80fe-3793ef995cb0"
      },
      "execution_count": null,
      "outputs": [
        {
          "output_type": "stream",
          "name": "stdout",
          "text": [
            "number_of_reviews    2861\n",
            "dtype: int64\n"
          ]
        }
      ]
    },
    {
      "cell_type": "code",
      "source": [
        "# Replacing null values that are in column last_review and reviews_per_month column\n",
        "All_listings.fillna(0, inplace = True)"
      ],
      "metadata": {
        "id": "PG3lWlI46Kr-"
      },
      "execution_count": null,
      "outputs": []
    },
    {
      "cell_type": "code",
      "source": [
        "# Updated dataset null values\n",
        "All_listings.isnull().sum()"
      ],
      "metadata": {
        "colab": {
          "base_uri": "https://localhost:8080/"
        },
        "id": "euOPqitI3hYn",
        "outputId": "dc42957e-f471-4b29-b591-ac9d9ac2fbb0"
      },
      "execution_count": null,
      "outputs": [
        {
          "output_type": "execute_result",
          "data": {
            "text/plain": [
              "id                                0\n",
              "name                              0\n",
              "host_id                           0\n",
              "host_name                         0\n",
              "neighbourhood                     0\n",
              "latitude                          0\n",
              "longitude                         0\n",
              "room_type                         0\n",
              "price                             0\n",
              "minimum_nights                    0\n",
              "number_of_reviews                 0\n",
              "last_review                       0\n",
              "reviews_per_month                 0\n",
              "calculated_host_listings_count    0\n",
              "availability_365                  0\n",
              "dtype: int64"
            ]
          },
          "metadata": {},
          "execution_count": 30
        }
      ]
    },
    {
      "cell_type": "code",
      "source": [
        "# Updated Dataset Shape\n",
        "All_listings.shape"
      ],
      "metadata": {
        "colab": {
          "base_uri": "https://localhost:8080/"
        },
        "id": "9ps0INrA4iI5",
        "outputId": "bf3441a9-e3d7-4aca-8188-955739e1ff98"
      },
      "execution_count": null,
      "outputs": [
        {
          "output_type": "execute_result",
          "data": {
            "text/plain": [
              "(15413, 15)"
            ]
          },
          "metadata": {},
          "execution_count": 31
        }
      ]
    },
    {
      "cell_type": "code",
      "source": [
        "# Save the DataFrame to a CSV file, excluding the index values\n",
        "All_listings.to_csv('AirBNB_Tableau_Prep.csv', index=False)\n"
      ],
      "metadata": {
        "id": "YtDj5H-ITRm2"
      },
      "execution_count": null,
      "outputs": []
    },
    {
      "cell_type": "markdown",
      "source": [
        "### What all manipulations have you done and insights you found?"
      ],
      "metadata": {
        "id": "MSa1f5Uengrz"
      }
    },
    {
      "cell_type": "markdown",
      "source": [
        "Appended the datasets on top of one another.\n",
        "\n",
        "Some columns have been removed from the dataset.\n",
        "\n",
        "Null values present in name and host name column are removed.\n",
        "\n",
        "Null values present in name price column removed.\n",
        "\n",
        "Null values in last_review and reviews per month replaced with zero.\n",
        "\n",
        "Appended dataset All_listings have been saved named as AirBNB_Tableau_Prep in a csv format and is ready for transformation and analysis in Tableau Prep."
      ],
      "metadata": {
        "id": "LbyXE7I1olp8"
      }
    }
  ]
}